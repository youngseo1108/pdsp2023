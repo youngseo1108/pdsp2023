{
 "cells": [
  {
   "cell_type": "code",
   "execution_count": 169,
   "id": "7368dc75-adf9-4dae-a4b4-66af74f3eb5c",
   "metadata": {
    "tags": []
   },
   "outputs": [],
   "source": [
    "# Connection parameters\n",
    "host = 'localhost'\n",
    "user= 'postgres'\n",
    "password='0000'\n",
    "database='preprocess'  # the name of the batabase we are connecting\n",
    "port = \"5432\"\n",
    "# connection_string=f'postgresql://{user}:{password}@{host}:5432/{database}'"
   ]
  },
  {
   "cell_type": "code",
   "execution_count": 170,
   "id": "88ed77ba-69e7-456a-84c4-ba7c1fec0610",
   "metadata": {
    "tags": []
   },
   "outputs": [],
   "source": [
    "# !pip install psycopg2\n",
    "# ! pip install psycopg2-binary"
   ]
  },
  {
   "cell_type": "code",
   "execution_count": 171,
   "id": "eb81a2cf-a308-4ceb-88e2-c7cac62f55b2",
   "metadata": {
    "tags": []
   },
   "outputs": [],
   "source": [
    "# prepare\n",
    "import sqlalchemy\n",
    "import psycopg2\n",
    "import pandas as pd\n",
    "import sqlite3\n",
    "import pandas as pd\n",
    "from io import StringIO\n",
    "import csv\n",
    "from psycopg2 import extras\n",
    "import numpy as np"
   ]
  },
  {
   "cell_type": "code",
   "execution_count": 172,
   "id": "8e884eaf-ba5b-4b72-8149-2e99acb55d66",
   "metadata": {
    "tags": []
   },
   "outputs": [],
   "source": [
    "# Create a connection to the database\n",
    "conn = psycopg2.connect(\n",
    "    host=host,\n",
    "    database=database,\n",
    "    user=user,\n",
    "    password=password,\n",
    "    port=port\n",
    ")"
   ]
  },
  {
   "cell_type": "code",
   "execution_count": 173,
   "id": "8fcda31a-ab95-46df-a770-96e776162d4f",
   "metadata": {
    "tags": []
   },
   "outputs": [],
   "source": [
    "# Create a cursor object\n",
    "cur = conn.cursor()"
   ]
  },
  {
   "cell_type": "code",
   "execution_count": 134,
   "id": "a9334c0c-c716-4ed1-ad6c-c907389776fd",
   "metadata": {},
   "outputs": [],
   "source": [
    "# Part 1: Build tables:  6 component-->6 tables (finish)"
   ]
  },
  {
   "cell_type": "code",
   "execution_count": 91,
   "id": "43284aa9-9bae-47c0-b547-a065c959d93e",
   "metadata": {
    "tags": []
   },
   "outputs": [],
   "source": [
    "# 1) input itinerary component\n",
    "cur.execute(\"\"\"\n",
    "DROP TABLE itinerary_input CASCADE\n",
    "\"\"\")"
   ]
  },
  {
   "cell_type": "code",
   "execution_count": 92,
   "id": "2ad5ae16-9917-4e14-9c88-1c57bdcf3008",
   "metadata": {
    "tags": []
   },
   "outputs": [],
   "source": [
    "# 1) input itinerary component\n",
    "cur.execute(\"\"\"\n",
    "CREATE TABLE \"itinerary_input\" (\n",
    "  \"id\" SERIAL PRIMARY KEY,\n",
    "  \"Orig_s\" text NOT NULL,   \n",
    "  \"Dest_s\" text NOT NULL,\n",
    "  \"depDay\" varchar(10) NOT NULL\n",
    ")\n",
    "\"\"\")"
   ]
  },
  {
   "cell_type": "code",
   "execution_count": 93,
   "id": "2a4c312f-9246-4e10-b6c4-477433c58c11",
   "metadata": {
    "tags": []
   },
   "outputs": [],
   "source": [
    "# Commit the transaction for the CREATE TABLE command\n",
    "conn.commit()"
   ]
  },
  {
   "cell_type": "code",
   "execution_count": 108,
   "id": "dc5103ce-5184-40c0-b657-059703bff946",
   "metadata": {
    "tags": []
   },
   "outputs": [],
   "source": [
    "# 2) market share (pie graph) component \n",
    "# consistent with itinerary, map, and recommendation\n",
    "cur.execute(\"\"\"\n",
    "DROP TABLE marketshare CASCADE\n",
    "\"\"\")"
   ]
  },
  {
   "cell_type": "code",
   "execution_count": 109,
   "id": "da0a738c-bed2-45b4-805e-37b8bedaa015",
   "metadata": {
    "tags": []
   },
   "outputs": [],
   "source": [
    "cur.execute(\"\"\"\n",
    "CREATE TABLE \"marketshare\" (\n",
    "  \"id\" SERIAL PRIMARY KEY,\n",
    "  \"itinerary_input_id\" INTEGER NOT NULL,\n",
    "  \"market_share\" FLOAT NOT NULL,\n",
    "  FOREIGN KEY (\"itinerary_input_id\") REFERENCES \"itinerary_input\" (\"id\")\n",
    ")\n",
    "\"\"\")\n"
   ]
  },
  {
   "cell_type": "code",
   "execution_count": 110,
   "id": "0caf1619-6b86-4442-ba6a-4c7a523f41be",
   "metadata": {
    "tags": []
   },
   "outputs": [],
   "source": [
    "# Commit the transaction for the CREATE TABLE command\n",
    "conn.commit()"
   ]
  },
  {
   "cell_type": "code",
   "execution_count": 111,
   "id": "05abca91-177e-4108-a11b-f601ca341ce1",
   "metadata": {
    "tags": []
   },
   "outputs": [],
   "source": [
    "# 3) recommendation table component\n",
    "# consistent with market share, map, and itinerary\n",
    "cur.execute(\"\"\"\n",
    "DROP TABLE recommendation CASCADE\n",
    "\"\"\")"
   ]
  },
  {
   "cell_type": "code",
   "execution_count": 112,
   "id": "17f952a1-7123-4485-a748-a94940abd237",
   "metadata": {
    "tags": []
   },
   "outputs": [],
   "source": [
    "cur.execute(\"\"\"\n",
    "CREATE TABLE \"recommendation\" (\n",
    "  \"id\" SERIAL PRIMARY KEY,\n",
    "  \"itinerary_input_id\" INTEGER NOT NULL,\n",
    "  \"dep_hour\" INTEGER NOT NULL,\n",
    "  \"dep_min\" INTEGER NOT NULL,\n",
    "  \"arr_hour\" INTEGER NOT NULL,\n",
    "  \"arr_min\" INTEGER NOT NULL,\n",
    "  \"option\" TEXT,\n",
    "  \"elaptime\" FLOAT NOT NULL,\n",
    "  FOREIGN KEY (\"itinerary_input_id\") REFERENCES \"itinerary_input\" (\"id\") \n",
    ")\n",
    "\"\"\")"
   ]
  },
  {
   "cell_type": "code",
   "execution_count": 113,
   "id": "7768ad43-432a-4434-a6be-3ad8b0e72847",
   "metadata": {
    "tags": []
   },
   "outputs": [],
   "source": [
    "# Commit the transaction for the CREATE TABLE command\n",
    "conn.commit()"
   ]
  },
  {
   "cell_type": "code",
   "execution_count": 114,
   "id": "23ceb700-939e-4c1a-9cb3-3074ade467a2",
   "metadata": {},
   "outputs": [],
   "source": [
    "# 4) map component\n",
    "# consistent with market share, itinerary and recommendation\n",
    "cur.execute(\"\"\"\n",
    "DROP TABLE map CASCADE\n",
    "\"\"\")"
   ]
  },
  {
   "cell_type": "code",
   "execution_count": 115,
   "id": "992d2d41-d9c7-4d4b-8303-cf3508ea29ca",
   "metadata": {
    "tags": []
   },
   "outputs": [],
   "source": [
    "cur.execute(\"\"\"\n",
    "CREATE TABLE \"map\" (\n",
    "  \"id\" SERIAL PRIMARY KEY,\n",
    "  \"itinerary_input_id\" INTEGER NOT NULL,\n",
    "  \"Orig_s\" text NOT NULL,\n",
    "  \"Dest_s\" text NOT NULL,\n",
    "  FOREIGN KEY (\"itinerary_input_id\") REFERENCES \"itinerary_input\" (\"id\")\n",
    ")\n",
    "\"\"\")"
   ]
  },
  {
   "cell_type": "code",
   "execution_count": 116,
   "id": "f679ebbc-537c-4da5-9297-48d683cf16d0",
   "metadata": {
    "tags": []
   },
   "outputs": [],
   "source": [
    "# Commit the transaction for the CREATE TABLE command\n",
    "conn.commit()"
   ]
  },
  {
   "cell_type": "code",
   "execution_count": 117,
   "id": "0e497e7a-98da-44aa-aee0-8aa6be1e1364",
   "metadata": {
    "tags": []
   },
   "outputs": [],
   "source": [
    "# 5) result component (highest market_share itinerary info)\n",
    "cur.execute(\"\"\"\n",
    "DROP TABLE result CASCADE\n",
    "\"\"\")"
   ]
  },
  {
   "cell_type": "code",
   "execution_count": 118,
   "id": "06e0b8b9-b380-4e40-b2ec-7035ac279ddb",
   "metadata": {
    "tags": []
   },
   "outputs": [],
   "source": [
    "cur.execute(\"\"\"\n",
    "CREATE TABLE \"result\" (\n",
    "  \"id\" SERIAL PRIMARY KEY,\n",
    "  \"marketshare_id\" INTEGER NOT NULL,\n",
    "  \"TOT_pax\" FLOAT NOT NULL,\n",
    "  \"accuracy\" FLOAT,\n",
    "  FOREIGN KEY (\"marketshare_id\") REFERENCES \"marketshare\" (\"id\")\n",
    ")\n",
    "\"\"\")"
   ]
  },
  {
   "cell_type": "code",
   "execution_count": 119,
   "id": "c3689764-feab-4d1b-80cc-9877eab3370c",
   "metadata": {
    "tags": []
   },
   "outputs": [],
   "source": [
    "# Commit the transaction for the CREATE TABLE command\n",
    "conn.commit()"
   ]
  },
  {
   "cell_type": "code",
   "execution_count": 120,
   "id": "3f1177e8-493f-4fac-be8b-a89e4d1be200",
   "metadata": {
    "tags": []
   },
   "outputs": [],
   "source": [
    "cur.execute(\"\"\"\n",
    "DROP TABLE other_info CASCADE\n",
    "\"\"\")"
   ]
  },
  {
   "cell_type": "code",
   "execution_count": 121,
   "id": "8dd49dcf-6fde-4e27-ab60-fb8d646bbd40",
   "metadata": {
    "tags": []
   },
   "outputs": [],
   "source": [
    "# 6) other info component (highest market_share itinerary info)\n",
    "cur.execute(\"\"\"\n",
    "CREATE TABLE \"other_info\" (\n",
    "  \"id\" SERIAL PRIMARY KEY,\n",
    "  \"marketshare_id\" INTEGER NOT NULL,\n",
    "  \"detour\" FLOAT NOT NULL,\n",
    "  \"stops\" INTEGER NOT NULL,\n",
    "  \"real_dist\" FLOAT NOT NULL,\n",
    "  FOREIGN KEY (\"marketshare_id\") REFERENCES \"marketshare\" (\"id\")\n",
    ")\n",
    "\"\"\")"
   ]
  },
  {
   "cell_type": "code",
   "execution_count": 122,
   "id": "e128ddb9-80d3-4a12-89da-2fcbb2ddb71d",
   "metadata": {
    "tags": []
   },
   "outputs": [],
   "source": [
    "# Commit the transaction for the CREATE TABLE command\n",
    "conn.commit()"
   ]
  },
  {
   "cell_type": "code",
   "execution_count": 43,
   "id": "b956418f-d3c5-434c-bdd3-fd46c45728a9",
   "metadata": {},
   "outputs": [],
   "source": [
    "# Part 2: import preprocessing (Prepro_v2) dataset to tables (current)\n",
    "# data: preprocessing data"
   ]
  },
  {
   "cell_type": "code",
   "execution_count": 94,
   "id": "c885911c-a435-4d24-b884-844746622224",
   "metadata": {},
   "outputs": [],
   "source": [
    "# 1) input itinerary component\n",
    "df = pd.read_csv('C:/Users/Alla/Desktop/苏黎世/第三学期/product/backend/data/dataprep_v2.csv')"
   ]
  },
  {
   "cell_type": "code",
   "execution_count": 95,
   "id": "2ab51fb6-bf95-48f7-8e18-2a20f49d2dc0",
   "metadata": {
    "tags": []
   },
   "outputs": [],
   "source": [
    "# create column Orig_s, Dest_s\n",
    "cf = pd.read_csv('C:/Users/Alla/Desktop/苏黎世/第三学期/product/backend/data/country_to_num.csv')\n",
    "\n",
    "# Merging to get Orig_s\n",
    "df = df.merge(cf, left_on='Orig', right_on='code', how='left')\n",
    "df.rename(columns={'country': 'Orig_s'}, inplace=True)\n",
    "df.drop('code', axis=1, inplace=True)\n",
    "\n",
    "# Merging to get Dest_s\n",
    "df = df.merge(cf, left_on='Dest', right_on='code', how='left')\n",
    "df.rename(columns={'country': 'Dest_s'}, inplace=True)\n",
    "df.drop('code', axis=1, inplace=True)"
   ]
  },
  {
   "cell_type": "code",
   "execution_count": 96,
   "id": "e33f826b-a893-492a-964f-a2a3a64910f3",
   "metadata": {
    "tags": []
   },
   "outputs": [],
   "source": [
    "df.drop(df.columns[0], axis=1, inplace=True)"
   ]
  },
  {
   "cell_type": "code",
   "execution_count": 97,
   "id": "da340c21-443c-421d-8364-4d92df2d6a7e",
   "metadata": {
    "tags": []
   },
   "outputs": [],
   "source": [
    "df.drop(df.columns[-2], axis=1, inplace=True)\n",
    "df.drop(df.columns[-3], axis=1, inplace=True)"
   ]
  },
  {
   "cell_type": "code",
   "execution_count": 98,
   "id": "c9fab775-a055-4756-8b7b-a81eef9775a5",
   "metadata": {
    "tags": []
   },
   "outputs": [
    {
     "data": {
      "text/html": [
       "<div>\n",
       "<style scoped>\n",
       "    .dataframe tbody tr th:only-of-type {\n",
       "        vertical-align: middle;\n",
       "    }\n",
       "\n",
       "    .dataframe tbody tr th {\n",
       "        vertical-align: top;\n",
       "    }\n",
       "\n",
       "    .dataframe thead th {\n",
       "        text-align: right;\n",
       "    }\n",
       "</style>\n",
       "<table border=\"1\" class=\"dataframe\">\n",
       "  <thead>\n",
       "    <tr style=\"text-align: right;\">\n",
       "      <th></th>\n",
       "      <th>Orig</th>\n",
       "      <th>con1</th>\n",
       "      <th>con2</th>\n",
       "      <th>Dest</th>\n",
       "      <th>op_flight1</th>\n",
       "      <th>op_flight2</th>\n",
       "      <th>op_flight3</th>\n",
       "      <th>depDay</th>\n",
       "      <th>elaptime</th>\n",
       "      <th>detour</th>\n",
       "      <th>...</th>\n",
       "      <th>cluster</th>\n",
       "      <th>TOT_pax</th>\n",
       "      <th>market_share</th>\n",
       "      <th>real_dist</th>\n",
       "      <th>total_time</th>\n",
       "      <th>connection_time</th>\n",
       "      <th>dep_hour</th>\n",
       "      <th>arr_hour</th>\n",
       "      <th>Orig_s</th>\n",
       "      <th>Dest_s</th>\n",
       "    </tr>\n",
       "  </thead>\n",
       "  <tbody>\n",
       "    <tr>\n",
       "      <th>0</th>\n",
       "      <td>26</td>\n",
       "      <td>64</td>\n",
       "      <td>239</td>\n",
       "      <td>181</td>\n",
       "      <td>732.0</td>\n",
       "      <td>2624</td>\n",
       "      <td>1101</td>\n",
       "      <td>2.0</td>\n",
       "      <td>535.0</td>\n",
       "      <td>1.02676</td>\n",
       "      <td>...</td>\n",
       "      <td>111.0</td>\n",
       "      <td>0.0</td>\n",
       "      <td>0.0</td>\n",
       "      <td>3899.12</td>\n",
       "      <td>535.0</td>\n",
       "      <td>0.0</td>\n",
       "      <td>13</td>\n",
       "      <td>22</td>\n",
       "      <td>DE</td>\n",
       "      <td>SA</td>\n",
       "    </tr>\n",
       "    <tr>\n",
       "      <th>1</th>\n",
       "      <td>26</td>\n",
       "      <td>64</td>\n",
       "      <td>239</td>\n",
       "      <td>181</td>\n",
       "      <td>732.0</td>\n",
       "      <td>2624</td>\n",
       "      <td>1101</td>\n",
       "      <td>4.0</td>\n",
       "      <td>535.0</td>\n",
       "      <td>1.02676</td>\n",
       "      <td>...</td>\n",
       "      <td>111.0</td>\n",
       "      <td>0.0</td>\n",
       "      <td>0.0</td>\n",
       "      <td>3899.12</td>\n",
       "      <td>535.0</td>\n",
       "      <td>0.0</td>\n",
       "      <td>13</td>\n",
       "      <td>22</td>\n",
       "      <td>DE</td>\n",
       "      <td>SA</td>\n",
       "    </tr>\n",
       "    <tr>\n",
       "      <th>2</th>\n",
       "      <td>26</td>\n",
       "      <td>64</td>\n",
       "      <td>239</td>\n",
       "      <td>181</td>\n",
       "      <td>732.0</td>\n",
       "      <td>1748</td>\n",
       "      <td>1101</td>\n",
       "      <td>4.0</td>\n",
       "      <td>775.0</td>\n",
       "      <td>1.02676</td>\n",
       "      <td>...</td>\n",
       "      <td>111.0</td>\n",
       "      <td>0.0</td>\n",
       "      <td>0.0</td>\n",
       "      <td>3899.12</td>\n",
       "      <td>775.0</td>\n",
       "      <td>0.0</td>\n",
       "      <td>13</td>\n",
       "      <td>2</td>\n",
       "      <td>DE</td>\n",
       "      <td>SA</td>\n",
       "    </tr>\n",
       "    <tr>\n",
       "      <th>3</th>\n",
       "      <td>26</td>\n",
       "      <td>64</td>\n",
       "      <td>239</td>\n",
       "      <td>181</td>\n",
       "      <td>732.0</td>\n",
       "      <td>2624</td>\n",
       "      <td>1101</td>\n",
       "      <td>5.0</td>\n",
       "      <td>535.0</td>\n",
       "      <td>1.02676</td>\n",
       "      <td>...</td>\n",
       "      <td>111.0</td>\n",
       "      <td>0.0</td>\n",
       "      <td>0.0</td>\n",
       "      <td>3899.12</td>\n",
       "      <td>535.0</td>\n",
       "      <td>0.0</td>\n",
       "      <td>13</td>\n",
       "      <td>22</td>\n",
       "      <td>DE</td>\n",
       "      <td>SA</td>\n",
       "    </tr>\n",
       "    <tr>\n",
       "      <th>4</th>\n",
       "      <td>26</td>\n",
       "      <td>64</td>\n",
       "      <td>239</td>\n",
       "      <td>181</td>\n",
       "      <td>732.0</td>\n",
       "      <td>2624</td>\n",
       "      <td>1101</td>\n",
       "      <td>6.0</td>\n",
       "      <td>535.0</td>\n",
       "      <td>1.02676</td>\n",
       "      <td>...</td>\n",
       "      <td>111.0</td>\n",
       "      <td>0.0</td>\n",
       "      <td>0.0</td>\n",
       "      <td>3899.12</td>\n",
       "      <td>535.0</td>\n",
       "      <td>0.0</td>\n",
       "      <td>13</td>\n",
       "      <td>22</td>\n",
       "      <td>DE</td>\n",
       "      <td>SA</td>\n",
       "    </tr>\n",
       "  </tbody>\n",
       "</table>\n",
       "<p>5 rows × 23 columns</p>\n",
       "</div>"
      ],
      "text/plain": [
       "   Orig  con1  con2  Dest  op_flight1  op_flight2  op_flight3  depDay  \\\n",
       "0    26    64   239   181       732.0        2624        1101     2.0   \n",
       "1    26    64   239   181       732.0        2624        1101     4.0   \n",
       "2    26    64   239   181       732.0        1748        1101     4.0   \n",
       "3    26    64   239   181       732.0        2624        1101     5.0   \n",
       "4    26    64   239   181       732.0        2624        1101     6.0   \n",
       "\n",
       "   elaptime   detour  ...  cluster  TOT_pax  market_share  real_dist  \\\n",
       "0     535.0  1.02676  ...    111.0      0.0           0.0    3899.12   \n",
       "1     535.0  1.02676  ...    111.0      0.0           0.0    3899.12   \n",
       "2     775.0  1.02676  ...    111.0      0.0           0.0    3899.12   \n",
       "3     535.0  1.02676  ...    111.0      0.0           0.0    3899.12   \n",
       "4     535.0  1.02676  ...    111.0      0.0           0.0    3899.12   \n",
       "\n",
       "   total_time  connection_time  dep_hour  arr_hour  Orig_s  Dest_s  \n",
       "0       535.0              0.0        13        22      DE      SA  \n",
       "1       535.0              0.0        13        22      DE      SA  \n",
       "2       775.0              0.0        13         2      DE      SA  \n",
       "3       535.0              0.0        13        22      DE      SA  \n",
       "4       535.0              0.0        13        22      DE      SA  \n",
       "\n",
       "[5 rows x 23 columns]"
      ]
     },
     "execution_count": 98,
     "metadata": {},
     "output_type": "execute_result"
    }
   ],
   "source": [
    "df.head()"
   ]
  },
  {
   "cell_type": "code",
   "execution_count": 99,
   "id": "9d24ac56-9e80-404d-9297-8b8993bdd959",
   "metadata": {
    "tags": []
   },
   "outputs": [],
   "source": [
    "# deal with missing value\n"
   ]
  },
  {
   "cell_type": "code",
   "execution_count": 100,
   "id": "07cf67a8-6f9c-4cb5-8e82-c0c1f3e5145a",
   "metadata": {
    "tags": []
   },
   "outputs": [
    {
     "name": "stderr",
     "output_type": "stream",
     "text": [
      "C:\\Users\\Alla\\AppData\\Local\\Temp\\ipykernel_14396\\3413273447.py:4: SettingWithCopyWarning: \n",
      "A value is trying to be set on a copy of a slice from a DataFrame.\n",
      "Try using .loc[row_indexer,col_indexer] = value instead\n",
      "\n",
      "See the caveats in the documentation: https://pandas.pydata.org/pandas-docs/stable/user_guide/indexing.html#returning-a-view-versus-a-copy\n",
      "  df_selected['depDay'] = df_selected['depDay'].astype(str)\n"
     ]
    }
   ],
   "source": [
    "# Select only the relevant columns\n",
    "df_selected = df[['Orig_s', 'Dest_s', 'depDay']]\n",
    "# Convert 'depDay' from float to string if it's not in the datetime format\n",
    "df_selected['depDay'] = df_selected['depDay'].astype(str)"
   ]
  },
  {
   "cell_type": "code",
   "execution_count": 101,
   "id": "11f3e236-a29f-422e-a8d9-eaa905c2e4e1",
   "metadata": {
    "tags": []
   },
   "outputs": [
    {
     "data": {
      "text/plain": [
       "0"
      ]
     },
     "execution_count": 101,
     "metadata": {},
     "output_type": "execute_result"
    }
   ],
   "source": [
    "# Convert the DataFrame to an in-memory buffer for copying to SQL\n",
    "buffer = StringIO()\n",
    "df_selected.to_csv(buffer, index=False, header=False)\n",
    "buffer.seek(0)"
   ]
  },
  {
   "cell_type": "code",
   "execution_count": 102,
   "id": "68a8e380-56e2-455b-978a-37d64da869a4",
   "metadata": {
    "tags": []
   },
   "outputs": [],
   "source": [
    "# Use copy_from to copy the data to the database\n",
    "cur.copy_from(buffer, 'itinerary_input', sep=',', columns=('Orig_s', 'Dest_s', 'depDay'))\n",
    "conn.commit()"
   ]
  },
  {
   "cell_type": "code",
   "execution_count": 123,
   "id": "f90b7731-c899-48f8-aa12-96c6d55fad33",
   "metadata": {},
   "outputs": [],
   "source": [
    "# 2) market share (pie graph) component\n",
    "# 1) input itinerary component\n",
    "# df = pd.read_csv('C:/Users/Alla/Desktop/苏黎世/第三学期/product/backend/data/dataprep_v2.csv')\n",
    "df_selected = df[['market_share']].astype(float)"
   ]
  },
  {
   "cell_type": "code",
   "execution_count": 124,
   "id": "9482dcff-6bde-40e9-b473-b6d47889166a",
   "metadata": {
    "tags": []
   },
   "outputs": [],
   "source": [
    "# Retrieve all ids from the itinerary_input table\n",
    "cur.execute(\"SELECT id FROM itinerary_input ORDER BY id\")\n",
    "itinerary_input_ids = cur.fetchall()"
   ]
  },
  {
   "cell_type": "code",
   "execution_count": 125,
   "id": "23b589fd-8a75-40c8-9fa8-29d58c4f8ca6",
   "metadata": {
    "tags": []
   },
   "outputs": [],
   "source": [
    "# Check if the number of rows matches\n",
    "if len(df_selected) <= len(itinerary_input_ids):\n",
    "    # Assign the itinerary_input_id values to the market_share DataFrame\n",
    "    df_selected['itinerary_input_id'] = [id[0] for id in itinerary_input_ids[:len(df_selected)]]\n",
    "else:\n",
    "    raise ValueError(\"There are more market_share entries than itinerary_input_ids available.\")"
   ]
  },
  {
   "cell_type": "code",
   "execution_count": 126,
   "id": "21ae11cc-d06e-48ca-89bd-949b7eb88b7b",
   "metadata": {
    "tags": []
   },
   "outputs": [],
   "source": [
    "# Prepare the data for insertion\n",
    "# Assuming the market_share_data DataFrame now has two columns: 'market_share' and 'itinerary_input_id'\n",
    "# Convert the DataFrame to a list of tuples\n",
    "data_tuples = list(df_selected.itertuples(index=False, name=None))"
   ]
  },
  {
   "cell_type": "code",
   "execution_count": 127,
   "id": "9e7da312-77e1-405d-a726-5ad22d8e6b85",
   "metadata": {
    "tags": []
   },
   "outputs": [],
   "source": [
    "# Insert the data into the marketshare table\n",
    "insert_query = 'INSERT INTO marketshare (market_share, itinerary_input_id) VALUES %s'\n",
    "extras.execute_values(cur, insert_query, data_tuples)"
   ]
  },
  {
   "cell_type": "code",
   "execution_count": 128,
   "id": "d2babbdf-e785-4b22-8ee5-3792f33bc677",
   "metadata": {
    "tags": []
   },
   "outputs": [],
   "source": [
    "conn.commit()"
   ]
  },
  {
   "cell_type": "code",
   "execution_count": 135,
   "id": "76719ff9-844b-4a2f-8621-b306d73272fc",
   "metadata": {},
   "outputs": [],
   "source": [
    "# 3) recommendation table component\n",
    "# 1) input itinerary component\n",
    "df_2 = pd.read_csv('C:/Users/Alla/Desktop/苏黎世/第三学期/product/backend/data/dataprep_v3.csv')\n",
    "# Select only the relevant columns\n",
    "# Merge df with df_2 based on their index\n",
    "df = df.join(df_2[['dep_min', 'arr_min']])"
   ]
  },
  {
   "cell_type": "code",
   "execution_count": 136,
   "id": "f6c0016b-68fe-44c6-b8f5-1478884da893",
   "metadata": {
    "tags": []
   },
   "outputs": [
    {
     "data": {
      "text/html": [
       "<div>\n",
       "<style scoped>\n",
       "    .dataframe tbody tr th:only-of-type {\n",
       "        vertical-align: middle;\n",
       "    }\n",
       "\n",
       "    .dataframe tbody tr th {\n",
       "        vertical-align: top;\n",
       "    }\n",
       "\n",
       "    .dataframe thead th {\n",
       "        text-align: right;\n",
       "    }\n",
       "</style>\n",
       "<table border=\"1\" class=\"dataframe\">\n",
       "  <thead>\n",
       "    <tr style=\"text-align: right;\">\n",
       "      <th></th>\n",
       "      <th>Orig</th>\n",
       "      <th>con1</th>\n",
       "      <th>con2</th>\n",
       "      <th>Dest</th>\n",
       "      <th>op_flight1</th>\n",
       "      <th>op_flight2</th>\n",
       "      <th>op_flight3</th>\n",
       "      <th>depDay</th>\n",
       "      <th>elaptime</th>\n",
       "      <th>detour</th>\n",
       "      <th>...</th>\n",
       "      <th>market_share</th>\n",
       "      <th>real_dist</th>\n",
       "      <th>total_time</th>\n",
       "      <th>connection_time</th>\n",
       "      <th>dep_hour</th>\n",
       "      <th>arr_hour</th>\n",
       "      <th>Orig_s</th>\n",
       "      <th>Dest_s</th>\n",
       "      <th>dep_min</th>\n",
       "      <th>arr_min</th>\n",
       "    </tr>\n",
       "  </thead>\n",
       "  <tbody>\n",
       "    <tr>\n",
       "      <th>0</th>\n",
       "      <td>26</td>\n",
       "      <td>64</td>\n",
       "      <td>239</td>\n",
       "      <td>181</td>\n",
       "      <td>732.0</td>\n",
       "      <td>2624</td>\n",
       "      <td>1101</td>\n",
       "      <td>2.0</td>\n",
       "      <td>535.0</td>\n",
       "      <td>1.02676</td>\n",
       "      <td>...</td>\n",
       "      <td>0.0</td>\n",
       "      <td>3899.12</td>\n",
       "      <td>535.0</td>\n",
       "      <td>0.0</td>\n",
       "      <td>13</td>\n",
       "      <td>22</td>\n",
       "      <td>DE</td>\n",
       "      <td>SA</td>\n",
       "      <td>45</td>\n",
       "      <td>40</td>\n",
       "    </tr>\n",
       "    <tr>\n",
       "      <th>1</th>\n",
       "      <td>26</td>\n",
       "      <td>64</td>\n",
       "      <td>239</td>\n",
       "      <td>181</td>\n",
       "      <td>732.0</td>\n",
       "      <td>2624</td>\n",
       "      <td>1101</td>\n",
       "      <td>4.0</td>\n",
       "      <td>535.0</td>\n",
       "      <td>1.02676</td>\n",
       "      <td>...</td>\n",
       "      <td>0.0</td>\n",
       "      <td>3899.12</td>\n",
       "      <td>535.0</td>\n",
       "      <td>0.0</td>\n",
       "      <td>13</td>\n",
       "      <td>22</td>\n",
       "      <td>DE</td>\n",
       "      <td>SA</td>\n",
       "      <td>45</td>\n",
       "      <td>40</td>\n",
       "    </tr>\n",
       "    <tr>\n",
       "      <th>2</th>\n",
       "      <td>26</td>\n",
       "      <td>64</td>\n",
       "      <td>239</td>\n",
       "      <td>181</td>\n",
       "      <td>732.0</td>\n",
       "      <td>1748</td>\n",
       "      <td>1101</td>\n",
       "      <td>4.0</td>\n",
       "      <td>775.0</td>\n",
       "      <td>1.02676</td>\n",
       "      <td>...</td>\n",
       "      <td>0.0</td>\n",
       "      <td>3899.12</td>\n",
       "      <td>775.0</td>\n",
       "      <td>0.0</td>\n",
       "      <td>13</td>\n",
       "      <td>2</td>\n",
       "      <td>DE</td>\n",
       "      <td>SA</td>\n",
       "      <td>45</td>\n",
       "      <td>40</td>\n",
       "    </tr>\n",
       "    <tr>\n",
       "      <th>3</th>\n",
       "      <td>26</td>\n",
       "      <td>64</td>\n",
       "      <td>239</td>\n",
       "      <td>181</td>\n",
       "      <td>732.0</td>\n",
       "      <td>2624</td>\n",
       "      <td>1101</td>\n",
       "      <td>5.0</td>\n",
       "      <td>535.0</td>\n",
       "      <td>1.02676</td>\n",
       "      <td>...</td>\n",
       "      <td>0.0</td>\n",
       "      <td>3899.12</td>\n",
       "      <td>535.0</td>\n",
       "      <td>0.0</td>\n",
       "      <td>13</td>\n",
       "      <td>22</td>\n",
       "      <td>DE</td>\n",
       "      <td>SA</td>\n",
       "      <td>45</td>\n",
       "      <td>40</td>\n",
       "    </tr>\n",
       "    <tr>\n",
       "      <th>4</th>\n",
       "      <td>26</td>\n",
       "      <td>64</td>\n",
       "      <td>239</td>\n",
       "      <td>181</td>\n",
       "      <td>732.0</td>\n",
       "      <td>2624</td>\n",
       "      <td>1101</td>\n",
       "      <td>6.0</td>\n",
       "      <td>535.0</td>\n",
       "      <td>1.02676</td>\n",
       "      <td>...</td>\n",
       "      <td>0.0</td>\n",
       "      <td>3899.12</td>\n",
       "      <td>535.0</td>\n",
       "      <td>0.0</td>\n",
       "      <td>13</td>\n",
       "      <td>22</td>\n",
       "      <td>DE</td>\n",
       "      <td>SA</td>\n",
       "      <td>45</td>\n",
       "      <td>40</td>\n",
       "    </tr>\n",
       "  </tbody>\n",
       "</table>\n",
       "<p>5 rows × 25 columns</p>\n",
       "</div>"
      ],
      "text/plain": [
       "   Orig  con1  con2  Dest  op_flight1  op_flight2  op_flight3  depDay  \\\n",
       "0    26    64   239   181       732.0        2624        1101     2.0   \n",
       "1    26    64   239   181       732.0        2624        1101     4.0   \n",
       "2    26    64   239   181       732.0        1748        1101     4.0   \n",
       "3    26    64   239   181       732.0        2624        1101     5.0   \n",
       "4    26    64   239   181       732.0        2624        1101     6.0   \n",
       "\n",
       "   elaptime   detour  ...  market_share  real_dist  total_time  \\\n",
       "0     535.0  1.02676  ...           0.0    3899.12       535.0   \n",
       "1     535.0  1.02676  ...           0.0    3899.12       535.0   \n",
       "2     775.0  1.02676  ...           0.0    3899.12       775.0   \n",
       "3     535.0  1.02676  ...           0.0    3899.12       535.0   \n",
       "4     535.0  1.02676  ...           0.0    3899.12       535.0   \n",
       "\n",
       "   connection_time  dep_hour  arr_hour  Orig_s  Dest_s  dep_min  arr_min  \n",
       "0              0.0        13        22      DE      SA       45       40  \n",
       "1              0.0        13        22      DE      SA       45       40  \n",
       "2              0.0        13         2      DE      SA       45       40  \n",
       "3              0.0        13        22      DE      SA       45       40  \n",
       "4              0.0        13        22      DE      SA       45       40  \n",
       "\n",
       "[5 rows x 25 columns]"
      ]
     },
     "execution_count": 136,
     "metadata": {},
     "output_type": "execute_result"
    }
   ],
   "source": [
    "df.head()"
   ]
  },
  {
   "cell_type": "code",
   "execution_count": 137,
   "id": "b7b3a596-2a8f-469c-8347-7bfb29187c8c",
   "metadata": {
    "tags": []
   },
   "outputs": [
    {
     "name": "stderr",
     "output_type": "stream",
     "text": [
      "C:\\Users\\Alla\\AppData\\Local\\Temp\\ipykernel_14396\\3531353423.py:3: SettingWithCopyWarning: \n",
      "A value is trying to be set on a copy of a slice from a DataFrame.\n",
      "Try using .loc[row_indexer,col_indexer] = value instead\n",
      "\n",
      "See the caveats in the documentation: https://pandas.pydata.org/pandas-docs/stable/user_guide/indexing.html#returning-a-view-versus-a-copy\n",
      "  df_selected['dep_hour'] = df_selected['dep_hour'].astype(int)\n",
      "C:\\Users\\Alla\\AppData\\Local\\Temp\\ipykernel_14396\\3531353423.py:4: SettingWithCopyWarning: \n",
      "A value is trying to be set on a copy of a slice from a DataFrame.\n",
      "Try using .loc[row_indexer,col_indexer] = value instead\n",
      "\n",
      "See the caveats in the documentation: https://pandas.pydata.org/pandas-docs/stable/user_guide/indexing.html#returning-a-view-versus-a-copy\n",
      "  df_selected['dep_min'] = df_selected['dep_min'].astype(int)\n",
      "C:\\Users\\Alla\\AppData\\Local\\Temp\\ipykernel_14396\\3531353423.py:5: SettingWithCopyWarning: \n",
      "A value is trying to be set on a copy of a slice from a DataFrame.\n",
      "Try using .loc[row_indexer,col_indexer] = value instead\n",
      "\n",
      "See the caveats in the documentation: https://pandas.pydata.org/pandas-docs/stable/user_guide/indexing.html#returning-a-view-versus-a-copy\n",
      "  df_selected['arr_hour'] = df_selected['arr_hour'].astype(int)\n",
      "C:\\Users\\Alla\\AppData\\Local\\Temp\\ipykernel_14396\\3531353423.py:6: SettingWithCopyWarning: \n",
      "A value is trying to be set on a copy of a slice from a DataFrame.\n",
      "Try using .loc[row_indexer,col_indexer] = value instead\n",
      "\n",
      "See the caveats in the documentation: https://pandas.pydata.org/pandas-docs/stable/user_guide/indexing.html#returning-a-view-versus-a-copy\n",
      "  df_selected['arr_min'] = df_selected['arr_min'].astype(int)\n",
      "C:\\Users\\Alla\\AppData\\Local\\Temp\\ipykernel_14396\\3531353423.py:7: SettingWithCopyWarning: \n",
      "A value is trying to be set on a copy of a slice from a DataFrame.\n",
      "Try using .loc[row_indexer,col_indexer] = value instead\n",
      "\n",
      "See the caveats in the documentation: https://pandas.pydata.org/pandas-docs/stable/user_guide/indexing.html#returning-a-view-versus-a-copy\n",
      "  df_selected['elaptime'] = df_selected['elaptime'].astype(float)\n"
     ]
    }
   ],
   "source": [
    "df_selected = df[['dep_hour', 'dep_min', 'arr_hour', 'arr_min', 'elaptime']]\n",
    "# define the data type \n",
    "df_selected['dep_hour'] = df_selected['dep_hour'].astype(int)\n",
    "df_selected['dep_min'] = df_selected['dep_min'].astype(int)\n",
    "df_selected['arr_hour'] = df_selected['arr_hour'].astype(int)\n",
    "df_selected['arr_min'] = df_selected['arr_min'].astype(int)\n",
    "df_selected['elaptime'] = df_selected['elaptime'].astype(float)"
   ]
  },
  {
   "cell_type": "code",
   "execution_count": 138,
   "id": "4e96a4c3-fce1-4a22-91f4-c106a04686c0",
   "metadata": {
    "tags": []
   },
   "outputs": [],
   "source": [
    "# Retrieve all ids from the itinerary_input table\n",
    "cur.execute(\"SELECT id FROM itinerary_input ORDER BY id\")\n",
    "itinerary_input_ids = cur.fetchall()"
   ]
  },
  {
   "cell_type": "code",
   "execution_count": 139,
   "id": "9c0bcb7c-2078-4917-a650-f824c4bcae26",
   "metadata": {
    "tags": []
   },
   "outputs": [
    {
     "name": "stderr",
     "output_type": "stream",
     "text": [
      "C:\\Users\\Alla\\AppData\\Local\\Temp\\ipykernel_14396\\244383808.py:4: SettingWithCopyWarning: \n",
      "A value is trying to be set on a copy of a slice from a DataFrame.\n",
      "Try using .loc[row_indexer,col_indexer] = value instead\n",
      "\n",
      "See the caveats in the documentation: https://pandas.pydata.org/pandas-docs/stable/user_guide/indexing.html#returning-a-view-versus-a-copy\n",
      "  df_selected['itinerary_input_id'] = [id_tuple[0] for id_tuple in itinerary_input_ids[:len(df_selected)]]\n",
      "C:\\Users\\Alla\\AppData\\Local\\Temp\\ipykernel_14396\\244383808.py:5: SettingWithCopyWarning: \n",
      "A value is trying to be set on a copy of a slice from a DataFrame.\n",
      "Try using .loc[row_indexer,col_indexer] = value instead\n",
      "\n",
      "See the caveats in the documentation: https://pandas.pydata.org/pandas-docs/stable/user_guide/indexing.html#returning-a-view-versus-a-copy\n",
      "  df_selected['option'] = None  # Assuming 'option' is a placeholder for actual options to be filled in later.\n"
     ]
    }
   ],
   "source": [
    "# Check if the number of rows matches\n",
    "if len(df_selected) <= len(itinerary_input_ids):\n",
    "    # Assign the itinerary_input_id values to the df_selected DataFrame\n",
    "    df_selected['itinerary_input_id'] = [id_tuple[0] for id_tuple in itinerary_input_ids[:len(df_selected)]]\n",
    "    df_selected['option'] = None  # Assuming 'option' is a placeholder for actual options to be filled in later.\n",
    "\n",
    "    # Reorder the DataFrame columns to match the table schema\n",
    "    df_selected = df_selected[['itinerary_input_id', 'dep_hour', 'dep_min', 'arr_hour', 'arr_min', 'option', 'elaptime']]\n",
    "\n",
    "    # Convert the DataFrame to an in-memory buffer for copying to SQL\n",
    "    buffer = StringIO()\n",
    "    df_selected.to_csv(buffer, index=False, header=False)\n",
    "    buffer.seek(0)\n",
    "\n",
    "    # Use copy_from to copy the data to the database\n",
    "    cur.copy_from(buffer, 'recommendation', sep=',', columns=('itinerary_input_id', 'dep_hour', 'dep_min', 'arr_hour', 'arr_min', 'option', 'elaptime'))\n",
    "    conn.commit()\n",
    "else:\n",
    "    raise ValueError(\"There are more elaptime entries than itinerary_input_ids available.\")"
   ]
  },
  {
   "cell_type": "code",
   "execution_count": 72,
   "id": "49502646-b4c2-46db-a4f3-7a1c80d68e37",
   "metadata": {
    "tags": []
   },
   "outputs": [],
   "source": [
    "# Note: Reorder can ensure the mismatch"
   ]
  },
  {
   "cell_type": "code",
   "execution_count": 160,
   "id": "3693a296-e66a-47d7-bd18-a9c24b6f8957",
   "metadata": {},
   "outputs": [],
   "source": [
    "# 4) map component\n",
    "# 1) input itinerary component\n",
    "# df = pd.read_csv('C:/Users/Alla/Desktop/苏黎世/第三学期/product/backend/data/dataprep_v2.csv')\n",
    "# Select only the relevant columns\n",
    "df_selected = df[['Orig_s', 'Dest_s']]"
   ]
  },
  {
   "cell_type": "code",
   "execution_count": 161,
   "id": "7eb6c1d1-f074-4108-9b1e-024ed6e8a978",
   "metadata": {
    "tags": []
   },
   "outputs": [],
   "source": [
    "# Retrieve all ids from the itinerary_input table\n",
    "cur.execute(\"SELECT id FROM itinerary_input ORDER BY id\")\n",
    "itinerary_input_ids = cur.fetchall()"
   ]
  },
  {
   "cell_type": "code",
   "execution_count": 175,
   "id": "04b2ecdf-61c3-4771-b2ca-8c20b578270e",
   "metadata": {
    "tags": []
   },
   "outputs": [
    {
     "name": "stderr",
     "output_type": "stream",
     "text": [
      "C:\\Users\\Alla\\AppData\\Local\\Temp\\ipykernel_14396\\4082827936.py:4: SettingWithCopyWarning: \n",
      "A value is trying to be set on a copy of a slice from a DataFrame.\n",
      "Try using .loc[row_indexer,col_indexer] = value instead\n",
      "\n",
      "See the caveats in the documentation: https://pandas.pydata.org/pandas-docs/stable/user_guide/indexing.html#returning-a-view-versus-a-copy\n",
      "  df_selected['itinerary_input_id'] = [id_tuple[0] for id_tuple in itinerary_input_ids[:len(df_selected)]]\n",
      "C:\\Users\\Alla\\AppData\\Local\\Temp\\ipykernel_14396\\4082827936.py:6: SettingWithCopyWarning: \n",
      "A value is trying to be set on a copy of a slice from a DataFrame\n",
      "\n",
      "See the caveats in the documentation: https://pandas.pydata.org/pandas-docs/stable/user_guide/indexing.html#returning-a-view-versus-a-copy\n",
      "  df_selected.fillna('', inplace=True)\n",
      "C:\\Users\\Alla\\AppData\\Local\\Temp\\ipykernel_14396\\4082827936.py:10: SettingWithCopyWarning: \n",
      "A value is trying to be set on a copy of a slice from a DataFrame.\n",
      "Try using .loc[row_indexer,col_indexer] = value instead\n",
      "\n",
      "See the caveats in the documentation: https://pandas.pydata.org/pandas-docs/stable/user_guide/indexing.html#returning-a-view-versus-a-copy\n",
      "  df_selected['itinerary_input_id'] = df_selected['itinerary_input_id'].astype(int)\n"
     ]
    },
    {
     "name": "stdout",
     "output_type": "stream",
     "text": [
      "   itinerary_input_id Orig_s Dest_s\n",
      "0                   1     DE     SA\n",
      "1                   2     DE     SA\n",
      "2                   3     DE     SA\n",
      "3                   4     DE     SA\n",
      "4                   5     DE     SA\n",
      "1,DE,SA\n",
      "2,DE,SA\n",
      "3,DE,SA\n",
      "4,DE,SA\n",
      "5,DE,SA\n",
      "6,DE,SA\n",
      "7,DE,SA\n",
      "8,DE,SA\n",
      "9,DE,SA\n",
      "10,DE,SA\n",
      "11,DE,SA\n",
      "12,DE,SA\n",
      "13,DE,SA\n",
      "14,DE,SA\n",
      "15,DE,SA\n",
      "16,DE,SA\n",
      "17,DE,SA\n",
      "18,DE,SA\n",
      "19,DE,SA\n",
      "20,DE,SA\n",
      "21,DE,SA\n",
      "22,DE,SA\n",
      "23,DE,SA\n",
      "24,DE,SA\n",
      "25,DE,SA\n",
      "26,DE,SA\n",
      "27,DE,SA\n",
      "28,DE,SA\n",
      "29,DE,SA\n",
      "30,DE,SA\n",
      "31,DE,SA\n",
      "32,DE,SA\n",
      "33,DE,SA\n",
      "34,DE,SA\n",
      "35,DE,SA\n",
      "36,DE,SA\n",
      "37,DE,SA\n",
      "38,DE,SA\n",
      "39,DE,SA\n",
      "40,DE,SA\n",
      "41,DE,SA\n",
      "42,DE,OM\n",
      "43,DE,OM\n",
      "44,DE,OM\n",
      "45,DE,OM\n",
      "46,DE,OM\n",
      "47,DE,OM\n",
      "48,DE,OM\n",
      "49,DE,OM\n",
      "50,DE,OM\n",
      "51,DE,OM\n"
     ]
    }
   ],
   "source": [
    "# based on Orig_s to set foreign key (itinerary_input_id)\n",
    "# Check if the number of rows matches\n",
    "# Assign the itinerary_input_id values to the df_selected DataFrame\n",
    "df_selected['itinerary_input_id'] = [id_tuple[0] for id_tuple in itinerary_input_ids[:len(df_selected)]]\n",
    "# Replace None with an empty string or a suitable placeholder\n",
    "df_selected.fillna('', inplace=True)\n",
    "\n",
    "# Ensure correct data types\n",
    "# For example, if itinerary_input_id should be an integer\n",
    "df_selected['itinerary_input_id'] = df_selected['itinerary_input_id'].astype(int)\n",
    "\n",
    "# Ensuring the correct column order for df_selected\n",
    "df_selected = df_selected[['itinerary_input_id', 'Orig_s', 'Dest_s']]\n",
    "\n",
    "# Print the first few rows of df_selected to verify the data and column order\n",
    "print(df_selected.head())\n",
    "\n",
    "# Convert the DataFrame to an in-memory buffer for copying to SQL\n",
    "buffer = StringIO()\n",
    "df_selected.to_csv(buffer, index=False, header=False)\n",
    "buffer.seek(0)\n",
    "\n",
    "# Print the first few lines of the buffer to check its content\n",
    "print(buffer.getvalue()[:500])\n",
    "\n",
    "# Use copy_from to copy the data to the database\n",
    "try:\n",
    "    cur.copy_from(buffer, 'map', sep=',', columns=('itinerary_input_id', 'Orig_s', 'Dest_s'))\n",
    "    conn.commit()\n",
    "except Exception as e:\n",
    "    print(f\"Error during copy: {e}\")\n",
    "    conn.rollback()\n"
   ]
  },
  {
   "cell_type": "code",
   "execution_count": 176,
   "id": "f0acd356-2777-4974-86ca-2e0e09df2880",
   "metadata": {},
   "outputs": [],
   "source": [
    "# 5) result component (highest market_share itinerary info)\n",
    "# df = pd.read_csv('C:/Users/Alla/Desktop/苏黎世/第三学期/product/backend/data/dataprep_v2.csv')\n",
    "# Select only the relevant columns\n",
    "df_selected = df[['TOT_pax']]"
   ]
  },
  {
   "cell_type": "code",
   "execution_count": 177,
   "id": "1d522572-3016-4633-b6fc-64778c8d1b29",
   "metadata": {
    "tags": []
   },
   "outputs": [],
   "source": [
    "# Retrieve all ids from the recommendation table\n",
    "cur.execute(\"SELECT id FROM marketshare ORDER BY id\")\n",
    "marketshare_ids = cur.fetchall()"
   ]
  },
  {
   "cell_type": "code",
   "execution_count": 178,
   "id": "43e10432-fd0b-4429-91a0-39a727f0bc97",
   "metadata": {
    "tags": []
   },
   "outputs": [
    {
     "name": "stderr",
     "output_type": "stream",
     "text": [
      "C:\\Users\\Alla\\AppData\\Local\\Temp\\ipykernel_14396\\1200834003.py:3: SettingWithCopyWarning: \n",
      "A value is trying to be set on a copy of a slice from a DataFrame.\n",
      "Try using .loc[row_indexer,col_indexer] = value instead\n",
      "\n",
      "See the caveats in the documentation: https://pandas.pydata.org/pandas-docs/stable/user_guide/indexing.html#returning-a-view-versus-a-copy\n",
      "  df_selected['marketshare_id'] = [id_tuple[0] for id_tuple in marketshare_ids[:len(df_selected)]]\n"
     ]
    }
   ],
   "source": [
    "if len(df_selected) <= len(marketshare_ids):\n",
    "    # Assign the itinerary_input_id values to the df_selected DataFrame\n",
    "    df_selected['marketshare_id'] = [id_tuple[0] for id_tuple in marketshare_ids[:len(df_selected)]]\n",
    "\n",
    "    # Reorder the DataFrame columns to match the table schema\n",
    "    df_selected = df_selected[['marketshare_id', 'TOT_pax']]\n",
    "    # Make sure to assign np.nan instead of None to create proper NaN values for float columns\n",
    "    df_selected['accuracy'] = np.nan\n",
    "\n",
    "    # Convert the DataFrame to an in-memory buffer for copying to SQL\n",
    "    buffer = StringIO()\n",
    "    df_selected.to_csv(buffer, index=False, header=False, na_rep='\\\\N') \n",
    "    # Use na_rep to replace NaN with \\N in the CSV\n",
    "    buffer.seek(0)\n",
    "\n",
    "    # Use copy_from to copy the data to the database\n",
    "    cur.copy_from(buffer, 'result', sep=',', columns=('marketshare_id', 'TOT_pax', 'accuracy'))\n",
    "    conn.commit()\n",
    "else:\n",
    "    raise ValueError(\"There are more entries than fk_constrain available.\")"
   ]
  },
  {
   "cell_type": "code",
   "execution_count": 179,
   "id": "94458972-fc52-45e4-81ba-729397d86f21",
   "metadata": {},
   "outputs": [],
   "source": [
    "# 6) other info component (highest market_share itinerary info)\n",
    "# 1) input itinerary component\n",
    "# df = pd.read_csv('C:/Users/Alla/Desktop/苏黎世/第三学期/product/backend/data/dataprep_v2.csv')"
   ]
  },
  {
   "cell_type": "code",
   "execution_count": 180,
   "id": "411b398a-33c8-49b0-8ac4-a648bf82c1ea",
   "metadata": {
    "tags": []
   },
   "outputs": [],
   "source": [
    "# Create a function to determine the number of stops based on the columns\n",
    "#def calculate_stops(row):\n",
    "    # Check each 'stops_X.X' column starting from the highest\n",
    "    #for i in range(2, -1, -1):\n",
    "        #if row[f'stops_{i}.0'] == 1:\n",
    "            #return i\n",
    "    #return 0  # Return 0 if none of the stops columns have a 1"
   ]
  },
  {
   "cell_type": "code",
   "execution_count": 181,
   "id": "6ee0ba23-091a-4e7f-b6d2-075309a51bba",
   "metadata": {
    "tags": []
   },
   "outputs": [],
   "source": [
    "# Apply the function to each row to create the 'stops' column\n",
    "# df['stops'] = df.apply(calculate_stops, axis=1)"
   ]
  },
  {
   "cell_type": "code",
   "execution_count": 182,
   "id": "87aac347-db09-4101-a7fe-dda9a63010f2",
   "metadata": {
    "tags": []
   },
   "outputs": [
    {
     "name": "stderr",
     "output_type": "stream",
     "text": [
      "C:\\Users\\Alla\\AppData\\Local\\Temp\\ipykernel_14396\\78121940.py:4: SettingWithCopyWarning: \n",
      "A value is trying to be set on a copy of a slice from a DataFrame.\n",
      "Try using .loc[row_indexer,col_indexer] = value instead\n",
      "\n",
      "See the caveats in the documentation: https://pandas.pydata.org/pandas-docs/stable/user_guide/indexing.html#returning-a-view-versus-a-copy\n",
      "  df_selected['detour'] = df_selected['detour'].astype(float)\n",
      "C:\\Users\\Alla\\AppData\\Local\\Temp\\ipykernel_14396\\78121940.py:5: SettingWithCopyWarning: \n",
      "A value is trying to be set on a copy of a slice from a DataFrame.\n",
      "Try using .loc[row_indexer,col_indexer] = value instead\n",
      "\n",
      "See the caveats in the documentation: https://pandas.pydata.org/pandas-docs/stable/user_guide/indexing.html#returning-a-view-versus-a-copy\n",
      "  df_selected['stops'] = df_selected['stops'].astype(int)\n",
      "C:\\Users\\Alla\\AppData\\Local\\Temp\\ipykernel_14396\\78121940.py:6: SettingWithCopyWarning: \n",
      "A value is trying to be set on a copy of a slice from a DataFrame.\n",
      "Try using .loc[row_indexer,col_indexer] = value instead\n",
      "\n",
      "See the caveats in the documentation: https://pandas.pydata.org/pandas-docs/stable/user_guide/indexing.html#returning-a-view-versus-a-copy\n",
      "  df_selected['real_dist'] = df_selected['real_dist'].astype(float)\n"
     ]
    }
   ],
   "source": [
    "# Select only the relevant columns\n",
    "df_selected = df[['detour', 'stops', 'real_dist']]\n",
    "# define the data type \n",
    "df_selected['detour'] = df_selected['detour'].astype(float)\n",
    "df_selected['stops'] = df_selected['stops'].astype(int)\n",
    "df_selected['real_dist'] = df_selected['real_dist'].astype(float)"
   ]
  },
  {
   "cell_type": "code",
   "execution_count": 183,
   "id": "1468ea98-9b1a-4b25-9e78-74f70a3da2d5",
   "metadata": {
    "tags": []
   },
   "outputs": [],
   "source": [
    "# Retrieve all ids from the recommendation table\n",
    "cur.execute(\"SELECT id FROM marketshare ORDER BY id\")\n",
    "marketshare_ids = cur.fetchall()"
   ]
  },
  {
   "cell_type": "code",
   "execution_count": 184,
   "id": "be4160ec-6fb4-463b-afb3-c53648eb19f2",
   "metadata": {
    "tags": []
   },
   "outputs": [
    {
     "name": "stderr",
     "output_type": "stream",
     "text": [
      "C:\\Users\\Alla\\AppData\\Local\\Temp\\ipykernel_14396\\2278559781.py:3: SettingWithCopyWarning: \n",
      "A value is trying to be set on a copy of a slice from a DataFrame.\n",
      "Try using .loc[row_indexer,col_indexer] = value instead\n",
      "\n",
      "See the caveats in the documentation: https://pandas.pydata.org/pandas-docs/stable/user_guide/indexing.html#returning-a-view-versus-a-copy\n",
      "  df_selected['marketshare_id'] = [id_tuple[0] for id_tuple in marketshare_ids[:len(df_selected)]]\n"
     ]
    }
   ],
   "source": [
    "if len(df_selected) <= len(marketshare_ids):\n",
    "    # Assign the itinerary_input_id values to the df_selected DataFrame\n",
    "    df_selected['marketshare_id'] = [id_tuple[0] for id_tuple in marketshare_ids[:len(df_selected)]]\n",
    "\n",
    "    # Reorder the DataFrame columns to match the table schema\n",
    "    df_selected = df_selected[['marketshare_id', 'detour', 'stops', 'real_dist']]\n",
    "\n",
    "    # Convert the DataFrame to an in-memory buffer for copying to SQL\n",
    "    buffer = StringIO()\n",
    "    df_selected.to_csv(buffer, index=False, header=False) \n",
    "    buffer.seek(0)\n",
    "\n",
    "    # Use copy_from to copy the data to the database\n",
    "    cur.copy_from(buffer, 'other_info', sep=',', columns=('marketshare_id', 'detour', 'stops', 'real_dist'))\n",
    "    conn.commit()\n",
    "else:\n",
    "    raise ValueError(\"There are more entries than fk_constrain available.\")"
   ]
  },
  {
   "cell_type": "code",
   "execution_count": 185,
   "id": "ec84988c-fd33-45f5-ab56-811c68b4b338",
   "metadata": {
    "tags": []
   },
   "outputs": [],
   "source": [
    "# Close the cursor and connection\n",
    "cur.close()\n",
    "conn.close()"
   ]
  },
  {
   "cell_type": "code",
   "execution_count": null,
   "id": "16349d13-7162-4e43-82e9-0f95e16bf06e",
   "metadata": {},
   "outputs": [],
   "source": []
  }
 ],
 "metadata": {
  "kernelspec": {
   "display_name": "Python 3 (ipykernel)",
   "language": "python",
   "name": "python3"
  },
  "language_info": {
   "codemirror_mode": {
    "name": "ipython",
    "version": 3
   },
   "file_extension": ".py",
   "mimetype": "text/x-python",
   "name": "python",
   "nbconvert_exporter": "python",
   "pygments_lexer": "ipython3",
   "version": "3.11.5"
  }
 },
 "nbformat": 4,
 "nbformat_minor": 5
}
