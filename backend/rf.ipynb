{
  "cells": [
    {
      "cell_type": "markdown",
      "metadata": {
        "id": "e6HKY3abyrIO"
      },
      "source": [
        "# Random forest\n",
        "\n",
        "random forest regressor: multiple inputs - multiple outputs\n",
        "- input\n",
        "  - user: 'Orig', 'Dest', 'depDay', 'arrDay'\n",
        "  - other attributes: 'con1', 'con2', 'depDay2', 'depDay3', 'elaptime', 'detour', 'paxe', 'cluster', 'TOT_pax', 'is_direct_flight', 'stops_0.0', 'stops_1.0', 'stops_2.0', 'segn_1.0', 'segn_2.0', 'segn_3.0', 'real_dist'\n",
        "- output: 'market_share', 'dep_hour', 'dep_min', 'arr_hour', 'arr_min', 'con_time'\n",
        "\n",
        "Don't think about whether it's direct or not at the moment! Go simple!"
      ]
    },
    {
      "cell_type": "code",
      "execution_count": 1,
      "metadata": {
        "id": "0_cPU6pNyrIQ"
      },
      "outputs": [],
      "source": [
        "import pandas as pd\n",
        "import numpy as np"
      ]
    },
    {
      "cell_type": "markdown",
      "metadata": {
        "id": "4FJAz9ppyrIR"
      },
      "source": [
        "### 1. load data"
      ]
    },
    {
      "cell_type": "code",
      "execution_count": 2,
      "metadata": {
        "colab": {
          "base_uri": "https://localhost:8080/",
          "height": 255
        },
        "id": "pdEgg8TOyrIR",
        "outputId": "b110e681-9a7c-455a-fed7-90d562e17651"
      },
      "outputs": [
        {
          "data": {
            "text/html": [
              "<div>\n",
              "<style scoped>\n",
              "    .dataframe tbody tr th:only-of-type {\n",
              "        vertical-align: middle;\n",
              "    }\n",
              "\n",
              "    .dataframe tbody tr th {\n",
              "        vertical-align: top;\n",
              "    }\n",
              "\n",
              "    .dataframe thead th {\n",
              "        text-align: right;\n",
              "    }\n",
              "</style>\n",
              "<table border=\"1\" class=\"dataframe\">\n",
              "  <thead>\n",
              "    <tr style=\"text-align: right;\">\n",
              "      <th></th>\n",
              "      <th>Orig</th>\n",
              "      <th>con1</th>\n",
              "      <th>con2</th>\n",
              "      <th>Dest</th>\n",
              "      <th>op_flight1</th>\n",
              "      <th>op_flight2</th>\n",
              "      <th>op_flight3</th>\n",
              "      <th>depDay</th>\n",
              "      <th>elaptime</th>\n",
              "      <th>detour</th>\n",
              "      <th>...</th>\n",
              "      <th>stops</th>\n",
              "      <th>paxe</th>\n",
              "      <th>cluster</th>\n",
              "      <th>TOT_pax</th>\n",
              "      <th>market_share</th>\n",
              "      <th>real_dist</th>\n",
              "      <th>total_time</th>\n",
              "      <th>connection_time</th>\n",
              "      <th>dep_hour</th>\n",
              "      <th>arr_hour</th>\n",
              "    </tr>\n",
              "  </thead>\n",
              "  <tbody>\n",
              "    <tr>\n",
              "      <th>0</th>\n",
              "      <td>26</td>\n",
              "      <td>64</td>\n",
              "      <td>239</td>\n",
              "      <td>181</td>\n",
              "      <td>732.0</td>\n",
              "      <td>2624</td>\n",
              "      <td>1101</td>\n",
              "      <td>2.0</td>\n",
              "      <td>535.0</td>\n",
              "      <td>1.02676</td>\n",
              "      <td>...</td>\n",
              "      <td>1.0</td>\n",
              "      <td>0.0</td>\n",
              "      <td>111.0</td>\n",
              "      <td>0.0</td>\n",
              "      <td>0.0</td>\n",
              "      <td>3899.12</td>\n",
              "      <td>535.0</td>\n",
              "      <td>0.0</td>\n",
              "      <td>13</td>\n",
              "      <td>22</td>\n",
              "    </tr>\n",
              "    <tr>\n",
              "      <th>1</th>\n",
              "      <td>26</td>\n",
              "      <td>64</td>\n",
              "      <td>239</td>\n",
              "      <td>181</td>\n",
              "      <td>732.0</td>\n",
              "      <td>2624</td>\n",
              "      <td>1101</td>\n",
              "      <td>4.0</td>\n",
              "      <td>535.0</td>\n",
              "      <td>1.02676</td>\n",
              "      <td>...</td>\n",
              "      <td>1.0</td>\n",
              "      <td>0.0</td>\n",
              "      <td>111.0</td>\n",
              "      <td>0.0</td>\n",
              "      <td>0.0</td>\n",
              "      <td>3899.12</td>\n",
              "      <td>535.0</td>\n",
              "      <td>0.0</td>\n",
              "      <td>13</td>\n",
              "      <td>22</td>\n",
              "    </tr>\n",
              "    <tr>\n",
              "      <th>2</th>\n",
              "      <td>26</td>\n",
              "      <td>64</td>\n",
              "      <td>239</td>\n",
              "      <td>181</td>\n",
              "      <td>732.0</td>\n",
              "      <td>1748</td>\n",
              "      <td>1101</td>\n",
              "      <td>4.0</td>\n",
              "      <td>775.0</td>\n",
              "      <td>1.02676</td>\n",
              "      <td>...</td>\n",
              "      <td>1.0</td>\n",
              "      <td>0.0</td>\n",
              "      <td>111.0</td>\n",
              "      <td>0.0</td>\n",
              "      <td>0.0</td>\n",
              "      <td>3899.12</td>\n",
              "      <td>775.0</td>\n",
              "      <td>0.0</td>\n",
              "      <td>13</td>\n",
              "      <td>2</td>\n",
              "    </tr>\n",
              "    <tr>\n",
              "      <th>3</th>\n",
              "      <td>26</td>\n",
              "      <td>64</td>\n",
              "      <td>239</td>\n",
              "      <td>181</td>\n",
              "      <td>732.0</td>\n",
              "      <td>2624</td>\n",
              "      <td>1101</td>\n",
              "      <td>5.0</td>\n",
              "      <td>535.0</td>\n",
              "      <td>1.02676</td>\n",
              "      <td>...</td>\n",
              "      <td>1.0</td>\n",
              "      <td>0.0</td>\n",
              "      <td>111.0</td>\n",
              "      <td>0.0</td>\n",
              "      <td>0.0</td>\n",
              "      <td>3899.12</td>\n",
              "      <td>535.0</td>\n",
              "      <td>0.0</td>\n",
              "      <td>13</td>\n",
              "      <td>22</td>\n",
              "    </tr>\n",
              "    <tr>\n",
              "      <th>4</th>\n",
              "      <td>26</td>\n",
              "      <td>64</td>\n",
              "      <td>239</td>\n",
              "      <td>181</td>\n",
              "      <td>732.0</td>\n",
              "      <td>2624</td>\n",
              "      <td>1101</td>\n",
              "      <td>6.0</td>\n",
              "      <td>535.0</td>\n",
              "      <td>1.02676</td>\n",
              "      <td>...</td>\n",
              "      <td>1.0</td>\n",
              "      <td>0.0</td>\n",
              "      <td>111.0</td>\n",
              "      <td>0.0</td>\n",
              "      <td>0.0</td>\n",
              "      <td>3899.12</td>\n",
              "      <td>535.0</td>\n",
              "      <td>0.0</td>\n",
              "      <td>13</td>\n",
              "      <td>22</td>\n",
              "    </tr>\n",
              "  </tbody>\n",
              "</table>\n",
              "<p>5 rows × 21 columns</p>\n",
              "</div>"
            ],
            "text/plain": [
              "   Orig  con1  con2  Dest  op_flight1  op_flight2  op_flight3  depDay   \n",
              "0    26    64   239   181       732.0        2624        1101     2.0  \\\n",
              "1    26    64   239   181       732.0        2624        1101     4.0   \n",
              "2    26    64   239   181       732.0        1748        1101     4.0   \n",
              "3    26    64   239   181       732.0        2624        1101     5.0   \n",
              "4    26    64   239   181       732.0        2624        1101     6.0   \n",
              "\n",
              "   elaptime   detour  ...  stops  paxe  cluster  TOT_pax  market_share   \n",
              "0     535.0  1.02676  ...    1.0   0.0    111.0      0.0           0.0  \\\n",
              "1     535.0  1.02676  ...    1.0   0.0    111.0      0.0           0.0   \n",
              "2     775.0  1.02676  ...    1.0   0.0    111.0      0.0           0.0   \n",
              "3     535.0  1.02676  ...    1.0   0.0    111.0      0.0           0.0   \n",
              "4     535.0  1.02676  ...    1.0   0.0    111.0      0.0           0.0   \n",
              "\n",
              "   real_dist  total_time  connection_time  dep_hour  arr_hour  \n",
              "0    3899.12       535.0              0.0        13        22  \n",
              "1    3899.12       535.0              0.0        13        22  \n",
              "2    3899.12       775.0              0.0        13         2  \n",
              "3    3899.12       535.0              0.0        13        22  \n",
              "4    3899.12       535.0              0.0        13        22  \n",
              "\n",
              "[5 rows x 21 columns]"
            ]
          },
          "metadata": {},
          "output_type": "display_data"
        }
      ],
      "source": [
        "# read the preprocessed data\n",
        "df = pd.read_csv('./dataset/dataprep_v2.csv').drop(columns=['Unnamed: 0'])\n",
        "display(df.head())"
      ]
    },
    {
      "cell_type": "markdown",
      "metadata": {
        "id": "cS90EpzyyrIT"
      },
      "source": [
        "`A simpler model`"
      ]
    },
    {
      "cell_type": "code",
      "execution_count": 3,
      "metadata": {
        "colab": {
          "base_uri": "https://localhost:8080/"
        },
        "id": "xENydG1DyrIT",
        "outputId": "367610a4-07d1-4762-c1e8-11e92320a9fa"
      },
      "outputs": [
        {
          "data": {
            "text/plain": [
              "Index(['Orig', 'con1', 'con2', 'Dest', 'op_flight1', 'op_flight2',\n",
              "       'op_flight3', 'depDay', 'elaptime', 'detour', 'arrDay', 'stops', 'paxe',\n",
              "       'cluster', 'TOT_pax', 'market_share', 'real_dist', 'total_time',\n",
              "       'connection_time', 'dep_hour', 'arr_hour'],\n",
              "      dtype='object')"
            ]
          },
          "execution_count": 3,
          "metadata": {},
          "output_type": "execute_result"
        }
      ],
      "source": [
        "df.columns"
      ]
    },
    {
      "cell_type": "code",
      "execution_count": 4,
      "metadata": {
        "colab": {
          "base_uri": "https://localhost:8080/",
          "height": 255
        },
        "id": "XTp1-_R5yrIU",
        "outputId": "90f9aa1b-e581-4ddd-b9d2-0195cedb0329"
      },
      "outputs": [
        {
          "data": {
            "text/html": [
              "<div>\n",
              "<style scoped>\n",
              "    .dataframe tbody tr th:only-of-type {\n",
              "        vertical-align: middle;\n",
              "    }\n",
              "\n",
              "    .dataframe tbody tr th {\n",
              "        vertical-align: top;\n",
              "    }\n",
              "\n",
              "    .dataframe thead th {\n",
              "        text-align: right;\n",
              "    }\n",
              "</style>\n",
              "<table border=\"1\" class=\"dataframe\">\n",
              "  <thead>\n",
              "    <tr style=\"text-align: right;\">\n",
              "      <th></th>\n",
              "      <th>Orig</th>\n",
              "      <th>con1</th>\n",
              "      <th>con2</th>\n",
              "      <th>Dest</th>\n",
              "      <th>op_flight1</th>\n",
              "      <th>op_flight2</th>\n",
              "      <th>op_flight3</th>\n",
              "      <th>depDay</th>\n",
              "      <th>elaptime</th>\n",
              "      <th>detour</th>\n",
              "      <th>arrDay</th>\n",
              "      <th>stops</th>\n",
              "      <th>cluster</th>\n",
              "      <th>real_dist</th>\n",
              "      <th>total_time</th>\n",
              "      <th>connection_time</th>\n",
              "      <th>dep_hour</th>\n",
              "      <th>arr_hour</th>\n",
              "    </tr>\n",
              "  </thead>\n",
              "  <tbody>\n",
              "    <tr>\n",
              "      <th>0</th>\n",
              "      <td>26</td>\n",
              "      <td>64</td>\n",
              "      <td>239</td>\n",
              "      <td>181</td>\n",
              "      <td>732.0</td>\n",
              "      <td>2624</td>\n",
              "      <td>1101</td>\n",
              "      <td>2.0</td>\n",
              "      <td>535.0</td>\n",
              "      <td>1.02676</td>\n",
              "      <td>3.0</td>\n",
              "      <td>1.0</td>\n",
              "      <td>111.0</td>\n",
              "      <td>3899.12</td>\n",
              "      <td>535.0</td>\n",
              "      <td>0.0</td>\n",
              "      <td>13</td>\n",
              "      <td>22</td>\n",
              "    </tr>\n",
              "    <tr>\n",
              "      <th>1</th>\n",
              "      <td>26</td>\n",
              "      <td>64</td>\n",
              "      <td>239</td>\n",
              "      <td>181</td>\n",
              "      <td>732.0</td>\n",
              "      <td>2624</td>\n",
              "      <td>1101</td>\n",
              "      <td>4.0</td>\n",
              "      <td>535.0</td>\n",
              "      <td>1.02676</td>\n",
              "      <td>5.0</td>\n",
              "      <td>1.0</td>\n",
              "      <td>111.0</td>\n",
              "      <td>3899.12</td>\n",
              "      <td>535.0</td>\n",
              "      <td>0.0</td>\n",
              "      <td>13</td>\n",
              "      <td>22</td>\n",
              "    </tr>\n",
              "    <tr>\n",
              "      <th>2</th>\n",
              "      <td>26</td>\n",
              "      <td>64</td>\n",
              "      <td>239</td>\n",
              "      <td>181</td>\n",
              "      <td>732.0</td>\n",
              "      <td>1748</td>\n",
              "      <td>1101</td>\n",
              "      <td>4.0</td>\n",
              "      <td>775.0</td>\n",
              "      <td>1.02676</td>\n",
              "      <td>5.0</td>\n",
              "      <td>1.0</td>\n",
              "      <td>111.0</td>\n",
              "      <td>3899.12</td>\n",
              "      <td>775.0</td>\n",
              "      <td>0.0</td>\n",
              "      <td>13</td>\n",
              "      <td>2</td>\n",
              "    </tr>\n",
              "    <tr>\n",
              "      <th>3</th>\n",
              "      <td>26</td>\n",
              "      <td>64</td>\n",
              "      <td>239</td>\n",
              "      <td>181</td>\n",
              "      <td>732.0</td>\n",
              "      <td>2624</td>\n",
              "      <td>1101</td>\n",
              "      <td>5.0</td>\n",
              "      <td>535.0</td>\n",
              "      <td>1.02676</td>\n",
              "      <td>6.0</td>\n",
              "      <td>1.0</td>\n",
              "      <td>111.0</td>\n",
              "      <td>3899.12</td>\n",
              "      <td>535.0</td>\n",
              "      <td>0.0</td>\n",
              "      <td>13</td>\n",
              "      <td>22</td>\n",
              "    </tr>\n",
              "    <tr>\n",
              "      <th>4</th>\n",
              "      <td>26</td>\n",
              "      <td>64</td>\n",
              "      <td>239</td>\n",
              "      <td>181</td>\n",
              "      <td>732.0</td>\n",
              "      <td>2624</td>\n",
              "      <td>1101</td>\n",
              "      <td>6.0</td>\n",
              "      <td>535.0</td>\n",
              "      <td>1.02676</td>\n",
              "      <td>7.0</td>\n",
              "      <td>1.0</td>\n",
              "      <td>111.0</td>\n",
              "      <td>3899.12</td>\n",
              "      <td>535.0</td>\n",
              "      <td>0.0</td>\n",
              "      <td>13</td>\n",
              "      <td>22</td>\n",
              "    </tr>\n",
              "  </tbody>\n",
              "</table>\n",
              "</div>"
            ],
            "text/plain": [
              "   Orig  con1  con2  Dest  op_flight1  op_flight2  op_flight3  depDay   \n",
              "0    26    64   239   181       732.0        2624        1101     2.0  \\\n",
              "1    26    64   239   181       732.0        2624        1101     4.0   \n",
              "2    26    64   239   181       732.0        1748        1101     4.0   \n",
              "3    26    64   239   181       732.0        2624        1101     5.0   \n",
              "4    26    64   239   181       732.0        2624        1101     6.0   \n",
              "\n",
              "   elaptime   detour  arrDay  stops  cluster  real_dist  total_time   \n",
              "0     535.0  1.02676     3.0    1.0    111.0    3899.12       535.0  \\\n",
              "1     535.0  1.02676     5.0    1.0    111.0    3899.12       535.0   \n",
              "2     775.0  1.02676     5.0    1.0    111.0    3899.12       775.0   \n",
              "3     535.0  1.02676     6.0    1.0    111.0    3899.12       535.0   \n",
              "4     535.0  1.02676     7.0    1.0    111.0    3899.12       535.0   \n",
              "\n",
              "   connection_time  dep_hour  arr_hour  \n",
              "0              0.0        13        22  \n",
              "1              0.0        13        22  \n",
              "2              0.0        13         2  \n",
              "3              0.0        13        22  \n",
              "4              0.0        13        22  "
            ]
          },
          "execution_count": 4,
          "metadata": {},
          "output_type": "execute_result"
        }
      ],
      "source": [
        "X = df.loc[:, ['Orig', 'con1', 'con2', 'Dest', 'op_flight1', 'op_flight2', 'op_flight3',\n",
        "               'depDay', 'elaptime', 'detour', 'arrDay', 'stops', 'cluster', 'real_dist',\n",
        "               'total_time', 'connection_time', 'dep_hour', 'arr_hour']]\n",
        "X.head()"
      ]
    },
    {
      "cell_type": "code",
      "execution_count": 5,
      "metadata": {
        "colab": {
          "base_uri": "https://localhost:8080/"
        },
        "id": "_KxoRiU7yrIU",
        "outputId": "ac563de2-dfb6-4d32-936c-98a2b9cf14ba"
      },
      "outputs": [
        {
          "data": {
            "text/plain": [
              "0    0.0\n",
              "1    0.0\n",
              "2    0.0\n",
              "3    0.0\n",
              "4    0.0\n",
              "Name: market_share, dtype: float64"
            ]
          },
          "execution_count": 5,
          "metadata": {},
          "output_type": "execute_result"
        }
      ],
      "source": [
        "# Didn't include in the simpler model: 'paxe', 'TOT_pax' \n",
        "y = df.loc[:, 'market_share']\n",
        "y.head()"
      ]
    },
    {
      "cell_type": "markdown",
      "metadata": {
        "id": "zrtWktg2yrIU"
      },
      "source": [
        "1.2 Splitting the dataset into training/test set\n",
        "https://builtin.com/data-science/random-forest-python<br/>\n",
        "https://machinelearningmastery.com/random-forest-ensemble-in-python/"
      ]
    },
    {
      "cell_type": "code",
      "execution_count": 7,
      "metadata": {
        "colab": {
          "base_uri": "https://localhost:8080/"
        },
        "id": "_ud9bgAByrIV",
        "outputId": "f21a608c-886d-4606-ebf1-288337b133f1"
      },
      "outputs": [
        {
          "name": "stdout",
          "output_type": "stream",
          "text": [
            "Shape of X_train: (418244, 18)\n",
            "Shape of y_train: (418244,)\n",
            "Shape of X_val: (104562, 18)\n",
            "Shape of y_val: (104562,)\n"
          ]
        }
      ],
      "source": [
        "from sklearn.model_selection import train_test_split\n",
        "# random_state: controls the shuffling applied to the data before applying the split.\n",
        "# Pass an int for reproducible output across multiple function calls.\n",
        "X_train, X_test, y_train, y_test = train_test_split(X, y, test_size=0.2, random_state=0)\n",
        "\n",
        "# check the size of the splitted dataset\n",
        "print(\"Shape of X_train:\", X_train.shape) # expected output (418244, 18)\n",
        "print(\"Shape of y_train:\", y_train.shape) # expected output (418244,)\n",
        "print(\"Shape of X_test:\", X_test.shape) # expected output (104562, 18)\n",
        "print(\"Shape of y_test:\", y_test.shape) # expected output (104562,)"
      ]
    },
    {
      "cell_type": "code",
      "execution_count": 8,
      "metadata": {
        "id": "4x8pFVM_yrIV"
      },
      "outputs": [],
      "source": [
        "# Standardisation\n",
        "from sklearn.preprocessing import StandardScaler\n",
        "\n",
        "sc_X = StandardScaler()\n",
        "X_train = sc_X.fit_transform(X_train)\n",
        "X_test = sc_X.fit_transform(X_test)"
      ]
    },
    {
      "cell_type": "markdown",
      "metadata": {
        "id": "ULRmIqmYyrIW"
      },
      "source": [
        "### 3. Creating a random forest regression model and fitting it to the training data"
      ]
    },
    {
      "cell_type": "code",
      "execution_count": 9,
      "metadata": {
        "colab": {
          "base_uri": "https://localhost:8080/",
          "height": 74
        },
        "id": "lOrjBc4NyrIW",
        "outputId": "377c2c07-bc90-41c4-af92-1bb57d80bb41"
      },
      "outputs": [
        {
          "data": {
            "text/html": [
              "<style>#sk-container-id-1 {color: black;background-color: white;}#sk-container-id-1 pre{padding: 0;}#sk-container-id-1 div.sk-toggleable {background-color: white;}#sk-container-id-1 label.sk-toggleable__label {cursor: pointer;display: block;width: 100%;margin-bottom: 0;padding: 0.3em;box-sizing: border-box;text-align: center;}#sk-container-id-1 label.sk-toggleable__label-arrow:before {content: \"▸\";float: left;margin-right: 0.25em;color: #696969;}#sk-container-id-1 label.sk-toggleable__label-arrow:hover:before {color: black;}#sk-container-id-1 div.sk-estimator:hover label.sk-toggleable__label-arrow:before {color: black;}#sk-container-id-1 div.sk-toggleable__content {max-height: 0;max-width: 0;overflow: hidden;text-align: left;background-color: #f0f8ff;}#sk-container-id-1 div.sk-toggleable__content pre {margin: 0.2em;color: black;border-radius: 0.25em;background-color: #f0f8ff;}#sk-container-id-1 input.sk-toggleable__control:checked~div.sk-toggleable__content {max-height: 200px;max-width: 100%;overflow: auto;}#sk-container-id-1 input.sk-toggleable__control:checked~label.sk-toggleable__label-arrow:before {content: \"▾\";}#sk-container-id-1 div.sk-estimator input.sk-toggleable__control:checked~label.sk-toggleable__label {background-color: #d4ebff;}#sk-container-id-1 div.sk-label input.sk-toggleable__control:checked~label.sk-toggleable__label {background-color: #d4ebff;}#sk-container-id-1 input.sk-hidden--visually {border: 0;clip: rect(1px 1px 1px 1px);clip: rect(1px, 1px, 1px, 1px);height: 1px;margin: -1px;overflow: hidden;padding: 0;position: absolute;width: 1px;}#sk-container-id-1 div.sk-estimator {font-family: monospace;background-color: #f0f8ff;border: 1px dotted black;border-radius: 0.25em;box-sizing: border-box;margin-bottom: 0.5em;}#sk-container-id-1 div.sk-estimator:hover {background-color: #d4ebff;}#sk-container-id-1 div.sk-parallel-item::after {content: \"\";width: 100%;border-bottom: 1px solid gray;flex-grow: 1;}#sk-container-id-1 div.sk-label:hover label.sk-toggleable__label {background-color: #d4ebff;}#sk-container-id-1 div.sk-serial::before {content: \"\";position: absolute;border-left: 1px solid gray;box-sizing: border-box;top: 0;bottom: 0;left: 50%;z-index: 0;}#sk-container-id-1 div.sk-serial {display: flex;flex-direction: column;align-items: center;background-color: white;padding-right: 0.2em;padding-left: 0.2em;position: relative;}#sk-container-id-1 div.sk-item {position: relative;z-index: 1;}#sk-container-id-1 div.sk-parallel {display: flex;align-items: stretch;justify-content: center;background-color: white;position: relative;}#sk-container-id-1 div.sk-item::before, #sk-container-id-1 div.sk-parallel-item::before {content: \"\";position: absolute;border-left: 1px solid gray;box-sizing: border-box;top: 0;bottom: 0;left: 50%;z-index: -1;}#sk-container-id-1 div.sk-parallel-item {display: flex;flex-direction: column;z-index: 1;position: relative;background-color: white;}#sk-container-id-1 div.sk-parallel-item:first-child::after {align-self: flex-end;width: 50%;}#sk-container-id-1 div.sk-parallel-item:last-child::after {align-self: flex-start;width: 50%;}#sk-container-id-1 div.sk-parallel-item:only-child::after {width: 0;}#sk-container-id-1 div.sk-dashed-wrapped {border: 1px dashed gray;margin: 0 0.4em 0.5em 0.4em;box-sizing: border-box;padding-bottom: 0.4em;background-color: white;}#sk-container-id-1 div.sk-label label {font-family: monospace;font-weight: bold;display: inline-block;line-height: 1.2em;}#sk-container-id-1 div.sk-label-container {text-align: center;}#sk-container-id-1 div.sk-container {/* jupyter's `normalize.less` sets `[hidden] { display: none; }` but bootstrap.min.css set `[hidden] { display: none !important; }` so we also need the `!important` here to be able to override the default hidden behavior on the sphinx rendered scikit-learn.org. See: https://github.com/scikit-learn/scikit-learn/issues/21755 */display: inline-block !important;position: relative;}#sk-container-id-1 div.sk-text-repr-fallback {display: none;}</style><div id=\"sk-container-id-1\" class=\"sk-top-container\"><div class=\"sk-text-repr-fallback\"><pre>RandomForestRegressor(random_state=0)</pre><b>In a Jupyter environment, please rerun this cell to show the HTML representation or trust the notebook. <br />On GitHub, the HTML representation is unable to render, please try loading this page with nbviewer.org.</b></div><div class=\"sk-container\" hidden><div class=\"sk-item\"><div class=\"sk-estimator sk-toggleable\"><input class=\"sk-toggleable__control sk-hidden--visually\" id=\"sk-estimator-id-1\" type=\"checkbox\" checked><label for=\"sk-estimator-id-1\" class=\"sk-toggleable__label sk-toggleable__label-arrow\">RandomForestRegressor</label><div class=\"sk-toggleable__content\"><pre>RandomForestRegressor(random_state=0)</pre></div></div></div></div></div>"
            ],
            "text/plain": [
              "RandomForestRegressor(random_state=0)"
            ]
          },
          "execution_count": 9,
          "metadata": {},
          "output_type": "execute_result"
        }
      ],
      "source": [
        "from sklearn.ensemble import RandomForestRegressor\n",
        "\n",
        "# Create a random forest regressor\n",
        "forest = RandomForestRegressor(n_estimators=100, random_state=0)\n",
        "\n",
        "# Fit the model to the training data\n",
        "forest.fit(X_train, y_train)"
      ]
    },
    {
      "cell_type": "code",
      "execution_count": 11,
      "metadata": {
        "colab": {
          "base_uri": "https://localhost:8080/"
        },
        "id": "xY8C_i-GyrIW",
        "outputId": "d0f53dc3-58e5-4c4e-8f83-009a6658cce8"
      },
      "outputs": [
        {
          "name": "stdout",
          "output_type": "stream",
          "text": [
            "Random Forest\n",
            "--------------------------------------------------------------------------------\n",
            "\n",
            "MSE (Training) = 0.0005\n",
            "MSE (Testing)  = 0.0051\n"
          ]
        }
      ],
      "source": [
        "# Predict the target variable on the training data\n",
        "y_train_pred = forest.predict(X_train)\n",
        "# Predict the target variable on the validation data\n",
        "y_test_pred = forest.predict(X_test)\n",
        "\n",
        "\n",
        "# Evaluate Model\n",
        "from sklearn.metrics import mean_squared_error\n",
        "\n",
        "mse_train = mean_squared_error(y_train, y_train_pred)\n",
        "mse_test = mean_squared_error(y_test, y_test_pred)\n",
        "\n",
        "# Report the result\n",
        "print('Random Forest')\n",
        "print('--------------------------------------------------------------------------------\\n')\n",
        "print('MSE (Training) = %.4f' % mse_train)\n",
        "print('MSE (Testing)  = %.4f' % mse_test)"
      ]
    },
    {
      "cell_type": "markdown",
      "metadata": {
        "id": "RmHtslgJyrIX"
      },
      "source": [
        "#### Hyperparameter tuning"
      ]
    },
    {
      "cell_type": "code",
      "execution_count": 12,
      "metadata": {
        "colab": {
          "base_uri": "https://localhost:8080/"
        },
        "id": "tSd_l_5PyrIX",
        "outputId": "a3e6f9da-941c-4a61-b08b-95dcc8d15316"
      },
      "outputs": [
        {
          "name": "stdout",
          "output_type": "stream",
          "text": [
            "Parameters currently in use:\n",
            "\n",
            "{'bootstrap': True,\n",
            " 'ccp_alpha': 0.0,\n",
            " 'criterion': 'squared_error',\n",
            " 'max_depth': None,\n",
            " 'max_features': 1.0,\n",
            " 'max_leaf_nodes': None,\n",
            " 'max_samples': None,\n",
            " 'min_impurity_decrease': 0.0,\n",
            " 'min_samples_leaf': 1,\n",
            " 'min_samples_split': 2,\n",
            " 'min_weight_fraction_leaf': 0.0,\n",
            " 'n_estimators': 100,\n",
            " 'n_jobs': None,\n",
            " 'oob_score': False,\n",
            " 'random_state': 0,\n",
            " 'verbose': 0,\n",
            " 'warm_start': False}\n"
          ]
        }
      ],
      "source": [
        "from pprint import pprint\n",
        "# Parameters in use for basic model above\n",
        "print('Parameters currently in use:\\n')\n",
        "pprint(forest.get_params())"
      ]
    },
    {
      "cell_type": "markdown",
      "metadata": {
        "id": "x5SZcb8byrIX"
      },
      "source": [
        "#### Random hyperparameter grid"
      ]
    },
    {
      "cell_type": "code",
      "execution_count": 13,
      "metadata": {
        "colab": {
          "base_uri": "https://localhost:8080/"
        },
        "id": "VbsdGsJZyrIX",
        "outputId": "1ff5df62-17d3-499f-9735-adae2b388935"
      },
      "outputs": [
        {
          "name": "stdout",
          "output_type": "stream",
          "text": [
            "{'max_depth': [10, 20, 30, 40, 50, 60, 70, 80, 90, 100, 110, None],\n",
            " 'max_features': ['auto', 'sqrt'],\n",
            " 'n_estimators': [20, 128, 237, 346, 455, 564, 673, 782, 891, 1000]}\n"
          ]
        }
      ],
      "source": [
        "from sklearn.model_selection import RandomizedSearchCV\n",
        "from pprint import pprint\n",
        "\n",
        "# Number of trees in random forest\n",
        "n_estimators = [int(x) for x in np.linspace(start=20, stop=1000, num=10)] # didn't necessarily return the best result w/ high n_estimators\n",
        "# Number of features to consider at every split\n",
        "max_features = ['auto', 'sqrt']\n",
        "# Maximum number of levels in tree\n",
        "max_depth = [int(x) for x in np.linspace(10, 110, num = 11)]\n",
        "max_depth.append(None)\n",
        "# Minimum number of samples required to split a node\n",
        "min_samples_split = [2, 5, 10]\n",
        "# Minimum number of samples required at each leaf node\n",
        "min_samples_leaf = [1, 2, 4]\n",
        "# Method of selecting samples for training each tree\n",
        "bootstrap = [True, False]# Create the random grid\n",
        "random_grid = {'n_estimators': n_estimators,\n",
        "               'max_features': max_features,\n",
        "               'max_depth': max_depth}\n",
        "               #'min_samples_split': min_samples_split,\n",
        "               #'min_samples_leaf': min_samples_leaf,\n",
        "               #'bootstrap': bootstrap}\n",
        "\n",
        "pprint(random_grid)"
      ]
    },
    {
      "cell_type": "markdown",
      "metadata": {
        "id": "31pQ0MpcyrIX"
      },
      "source": [
        "#### Random search training"
      ]
    },
    {
      "cell_type": "code",
      "execution_count": 14,
      "metadata": {
        "colab": {
          "base_uri": "https://localhost:8080/"
        },
        "id": "9r_W22u5yrIX",
        "outputId": "39187e38-695b-45da-8982-d3c857915251"
      },
      "outputs": [
        {
          "name": "stdout",
          "output_type": "stream",
          "text": [
            "GPU device not found\n"
          ]
        }
      ],
      "source": [
        "# activate GPU\n",
        "import tensorflow as tf\n",
        "device_name = tf.test.gpu_device_name()\n",
        "if device_name == '/device:GPU:0':\n",
        "  print('Found GPU at: {}'.format(device_name))\n",
        "else:\n",
        "  print('GPU device not found')"
      ]
    },
    {
      "cell_type": "code",
      "execution_count": 15,
      "metadata": {
        "colab": {
          "base_uri": "https://localhost:8080/",
          "height": 189
        },
        "id": "Nbho_xIryrIY",
        "outputId": "75ac4553-b748-4820-e4e5-3f8794535671"
      },
      "outputs": [
        {
          "name": "stdout",
          "output_type": "stream",
          "text": [
            "Fitting 3 folds for each of 3 candidates, totalling 9 fits\n"
          ]
        },
        {
          "name": "stderr",
          "output_type": "stream",
          "text": [
            "c:\\Users\\0youn\\AppData\\Local\\Programs\\Python\\Python311\\Lib\\site-packages\\sklearn\\ensemble\\_forest.py:413: FutureWarning: `max_features='auto'` has been deprecated in 1.1 and will be removed in 1.3. To keep the past behaviour, explicitly set `max_features=1.0` or remove this parameter as it is also the default value for RandomForestRegressors and ExtraTreesRegressors.\n",
            "  warn(\n"
          ]
        },
        {
          "data": {
            "text/html": [
              "<style>#sk-container-id-2 {color: black;background-color: white;}#sk-container-id-2 pre{padding: 0;}#sk-container-id-2 div.sk-toggleable {background-color: white;}#sk-container-id-2 label.sk-toggleable__label {cursor: pointer;display: block;width: 100%;margin-bottom: 0;padding: 0.3em;box-sizing: border-box;text-align: center;}#sk-container-id-2 label.sk-toggleable__label-arrow:before {content: \"▸\";float: left;margin-right: 0.25em;color: #696969;}#sk-container-id-2 label.sk-toggleable__label-arrow:hover:before {color: black;}#sk-container-id-2 div.sk-estimator:hover label.sk-toggleable__label-arrow:before {color: black;}#sk-container-id-2 div.sk-toggleable__content {max-height: 0;max-width: 0;overflow: hidden;text-align: left;background-color: #f0f8ff;}#sk-container-id-2 div.sk-toggleable__content pre {margin: 0.2em;color: black;border-radius: 0.25em;background-color: #f0f8ff;}#sk-container-id-2 input.sk-toggleable__control:checked~div.sk-toggleable__content {max-height: 200px;max-width: 100%;overflow: auto;}#sk-container-id-2 input.sk-toggleable__control:checked~label.sk-toggleable__label-arrow:before {content: \"▾\";}#sk-container-id-2 div.sk-estimator input.sk-toggleable__control:checked~label.sk-toggleable__label {background-color: #d4ebff;}#sk-container-id-2 div.sk-label input.sk-toggleable__control:checked~label.sk-toggleable__label {background-color: #d4ebff;}#sk-container-id-2 input.sk-hidden--visually {border: 0;clip: rect(1px 1px 1px 1px);clip: rect(1px, 1px, 1px, 1px);height: 1px;margin: -1px;overflow: hidden;padding: 0;position: absolute;width: 1px;}#sk-container-id-2 div.sk-estimator {font-family: monospace;background-color: #f0f8ff;border: 1px dotted black;border-radius: 0.25em;box-sizing: border-box;margin-bottom: 0.5em;}#sk-container-id-2 div.sk-estimator:hover {background-color: #d4ebff;}#sk-container-id-2 div.sk-parallel-item::after {content: \"\";width: 100%;border-bottom: 1px solid gray;flex-grow: 1;}#sk-container-id-2 div.sk-label:hover label.sk-toggleable__label {background-color: #d4ebff;}#sk-container-id-2 div.sk-serial::before {content: \"\";position: absolute;border-left: 1px solid gray;box-sizing: border-box;top: 0;bottom: 0;left: 50%;z-index: 0;}#sk-container-id-2 div.sk-serial {display: flex;flex-direction: column;align-items: center;background-color: white;padding-right: 0.2em;padding-left: 0.2em;position: relative;}#sk-container-id-2 div.sk-item {position: relative;z-index: 1;}#sk-container-id-2 div.sk-parallel {display: flex;align-items: stretch;justify-content: center;background-color: white;position: relative;}#sk-container-id-2 div.sk-item::before, #sk-container-id-2 div.sk-parallel-item::before {content: \"\";position: absolute;border-left: 1px solid gray;box-sizing: border-box;top: 0;bottom: 0;left: 50%;z-index: -1;}#sk-container-id-2 div.sk-parallel-item {display: flex;flex-direction: column;z-index: 1;position: relative;background-color: white;}#sk-container-id-2 div.sk-parallel-item:first-child::after {align-self: flex-end;width: 50%;}#sk-container-id-2 div.sk-parallel-item:last-child::after {align-self: flex-start;width: 50%;}#sk-container-id-2 div.sk-parallel-item:only-child::after {width: 0;}#sk-container-id-2 div.sk-dashed-wrapped {border: 1px dashed gray;margin: 0 0.4em 0.5em 0.4em;box-sizing: border-box;padding-bottom: 0.4em;background-color: white;}#sk-container-id-2 div.sk-label label {font-family: monospace;font-weight: bold;display: inline-block;line-height: 1.2em;}#sk-container-id-2 div.sk-label-container {text-align: center;}#sk-container-id-2 div.sk-container {/* jupyter's `normalize.less` sets `[hidden] { display: none; }` but bootstrap.min.css set `[hidden] { display: none !important; }` so we also need the `!important` here to be able to override the default hidden behavior on the sphinx rendered scikit-learn.org. See: https://github.com/scikit-learn/scikit-learn/issues/21755 */display: inline-block !important;position: relative;}#sk-container-id-2 div.sk-text-repr-fallback {display: none;}</style><div id=\"sk-container-id-2\" class=\"sk-top-container\"><div class=\"sk-text-repr-fallback\"><pre>RandomizedSearchCV(cv=3, estimator=RandomForestRegressor(), n_iter=3, n_jobs=-1,\n",
              "                   param_distributions={&#x27;max_depth&#x27;: [10, 20, 30, 40, 50, 60,\n",
              "                                                      70, 80, 90, 100, 110,\n",
              "                                                      None],\n",
              "                                        &#x27;max_features&#x27;: [&#x27;auto&#x27;, &#x27;sqrt&#x27;],\n",
              "                                        &#x27;n_estimators&#x27;: [20, 128, 237, 346, 455,\n",
              "                                                         564, 673, 782, 891,\n",
              "                                                         1000]},\n",
              "                   random_state=0, verbose=2)</pre><b>In a Jupyter environment, please rerun this cell to show the HTML representation or trust the notebook. <br />On GitHub, the HTML representation is unable to render, please try loading this page with nbviewer.org.</b></div><div class=\"sk-container\" hidden><div class=\"sk-item sk-dashed-wrapped\"><div class=\"sk-label-container\"><div class=\"sk-label sk-toggleable\"><input class=\"sk-toggleable__control sk-hidden--visually\" id=\"sk-estimator-id-2\" type=\"checkbox\" ><label for=\"sk-estimator-id-2\" class=\"sk-toggleable__label sk-toggleable__label-arrow\">RandomizedSearchCV</label><div class=\"sk-toggleable__content\"><pre>RandomizedSearchCV(cv=3, estimator=RandomForestRegressor(), n_iter=3, n_jobs=-1,\n",
              "                   param_distributions={&#x27;max_depth&#x27;: [10, 20, 30, 40, 50, 60,\n",
              "                                                      70, 80, 90, 100, 110,\n",
              "                                                      None],\n",
              "                                        &#x27;max_features&#x27;: [&#x27;auto&#x27;, &#x27;sqrt&#x27;],\n",
              "                                        &#x27;n_estimators&#x27;: [20, 128, 237, 346, 455,\n",
              "                                                         564, 673, 782, 891,\n",
              "                                                         1000]},\n",
              "                   random_state=0, verbose=2)</pre></div></div></div><div class=\"sk-parallel\"><div class=\"sk-parallel-item\"><div class=\"sk-item\"><div class=\"sk-label-container\"><div class=\"sk-label sk-toggleable\"><input class=\"sk-toggleable__control sk-hidden--visually\" id=\"sk-estimator-id-3\" type=\"checkbox\" ><label for=\"sk-estimator-id-3\" class=\"sk-toggleable__label sk-toggleable__label-arrow\">estimator: RandomForestRegressor</label><div class=\"sk-toggleable__content\"><pre>RandomForestRegressor()</pre></div></div></div><div class=\"sk-serial\"><div class=\"sk-item\"><div class=\"sk-estimator sk-toggleable\"><input class=\"sk-toggleable__control sk-hidden--visually\" id=\"sk-estimator-id-4\" type=\"checkbox\" ><label for=\"sk-estimator-id-4\" class=\"sk-toggleable__label sk-toggleable__label-arrow\">RandomForestRegressor</label><div class=\"sk-toggleable__content\"><pre>RandomForestRegressor()</pre></div></div></div></div></div></div></div></div></div></div>"
            ],
            "text/plain": [
              "RandomizedSearchCV(cv=3, estimator=RandomForestRegressor(), n_iter=3, n_jobs=-1,\n",
              "                   param_distributions={'max_depth': [10, 20, 30, 40, 50, 60,\n",
              "                                                      70, 80, 90, 100, 110,\n",
              "                                                      None],\n",
              "                                        'max_features': ['auto', 'sqrt'],\n",
              "                                        'n_estimators': [20, 128, 237, 346, 455,\n",
              "                                                         564, 673, 782, 891,\n",
              "                                                         1000]},\n",
              "                   random_state=0, verbose=2)"
            ]
          },
          "execution_count": 15,
          "metadata": {},
          "output_type": "execute_result"
        }
      ],
      "source": [
        "# Use the random grid to search for best hyperparameters\n",
        "# First create the base model to tune\n",
        "rf = RandomForestRegressor()\n",
        "# Random search of parameters, using 3 fold cross validation,\n",
        "# search across 3 different combinations, and use all available cores\n",
        "rf_random = RandomizedSearchCV(estimator=rf, param_distributions=random_grid,\n",
        "                               n_iter=3, cv=3, verbose=2, random_state=0, n_jobs=-1)\n",
        "# Fit the random search model\n",
        "rf_random.fit(X_train, y_train)"
      ]
    },
    {
      "cell_type": "code",
      "execution_count": 16,
      "metadata": {
        "colab": {
          "base_uri": "https://localhost:8080/"
        },
        "id": "QdgByg-PyrIY",
        "outputId": "74163390-63a8-4326-acea-95fa1512dbac"
      },
      "outputs": [
        {
          "data": {
            "text/plain": [
              "{'n_estimators': 1000, 'max_features': 'auto', 'max_depth': 60}"
            ]
          },
          "execution_count": 16,
          "metadata": {},
          "output_type": "execute_result"
        }
      ],
      "source": [
        "# View the best parameters from fitting the random search:\n",
        "rf_random.best_params_"
      ]
    },
    {
      "cell_type": "markdown",
      "metadata": {
        "id": "5cKNd9ldyrIY"
      },
      "source": [
        "### 4. Validate the model"
      ]
    },
    {
      "cell_type": "markdown",
      "metadata": {
        "id": "oGCA9FnFyrIY"
      },
      "source": [
        "#### evaluate the random search"
      ]
    },
    {
      "cell_type": "code",
      "execution_count": 19,
      "metadata": {
        "colab": {
          "base_uri": "https://localhost:8080/"
        },
        "id": "QaTdpfUFyrIY",
        "outputId": "4e2633ca-ff49-41b1-c036-524ed2ad4bc2"
      },
      "outputs": [
        {
          "name": "stdout",
          "output_type": "stream",
          "text": [
            "Model Performance\n",
            "--------------------------------------------------------------------------------\n",
            "\n",
            "MSE (Base model)  = 0.0054\n"
          ]
        }
      ],
      "source": [
        "def evaluate(model, X_test, y_test):\n",
        "  y_pred = model.predict(X_test)\n",
        "  mse = mean_squared_error(y_test, y_pred)\n",
        "  return mse\n",
        "\n",
        "# Base Model Performance\n",
        "base_model = RandomForestRegressor(random_state=0, n_estimators=20)\n",
        "base_model.fit(X_train, y_train)\n",
        "base_mse = evaluate(base_model, X_test, y_test)\n",
        "\n",
        "print('Model Performance')\n",
        "print('--------------------------------------------------------------------------------\\n')\n",
        "print('MSE (Base model)  = %.4f' % base_mse)"
      ]
    },
    {
      "cell_type": "code",
      "execution_count": 23,
      "metadata": {
        "colab": {
          "base_uri": "https://localhost:8080/"
        },
        "id": "ZS-LgWYgyrIZ",
        "outputId": "84f93e72-50b7-4f98-cc14-73eca0392cf6"
      },
      "outputs": [
        {
          "name": "stdout",
          "output_type": "stream",
          "text": [
            "Improvement of 8.10%.\n"
          ]
        }
      ],
      "source": [
        "# Random Search Model performance\n",
        "best_random = rf_random.best_estimator_\n",
        "random_mse = evaluate(best_random, X_test, y_test)\n",
        "print('Improvement of {:0.2f}%.'.format(100 * (base_mse - random_mse) / base_mse))"
      ]
    },
    {
      "cell_type": "code",
      "execution_count": 22,
      "metadata": {
        "colab": {
          "base_uri": "https://localhost:8080/"
        },
        "id": "HfH4D7_cx5Df",
        "outputId": "f7ba5024-faa2-48cd-a89d-8e200dd5a32f"
      },
      "outputs": [
        {
          "name": "stdout",
          "output_type": "stream",
          "text": [
            "-0.07928579831927829\n",
            "0.008127420721369627\n"
          ]
        }
      ],
      "source": [
        "print(base_model.score(X_test, y_test))\n",
        "print(best_random.score(X_test, y_test))"
      ]
    },
    {
      "cell_type": "markdown",
      "metadata": {
        "id": "71goPYZ1yrIZ"
      },
      "source": [
        "### 5. Save model"
      ]
    },
    {
      "cell_type": "markdown",
      "metadata": {
        "id": "qp9Xbd0fyrIZ"
      },
      "source": [
        "### 6. Predict market share for the kaggle competition dataset"
      ]
    },
    {
      "cell_type": "markdown",
      "metadata": {
        "id": "oMkbNOEXqQpY"
      },
      "source": [
        "Load data"
      ]
    },
    {
      "cell_type": "code",
      "execution_count": 24,
      "metadata": {
        "colab": {
          "base_uri": "https://localhost:8080/",
          "height": 478
        },
        "id": "sXyEKmTxqWCF",
        "outputId": "b1a0109e-54b9-4073-bcde-8183f7db8c06"
      },
      "outputs": [
        {
          "data": {
            "text/html": [
              "<div>\n",
              "<style scoped>\n",
              "    .dataframe tbody tr th:only-of-type {\n",
              "        vertical-align: middle;\n",
              "    }\n",
              "\n",
              "    .dataframe tbody tr th {\n",
              "        vertical-align: top;\n",
              "    }\n",
              "\n",
              "    .dataframe thead th {\n",
              "        text-align: right;\n",
              "    }\n",
              "</style>\n",
              "<table border=\"1\" class=\"dataframe\">\n",
              "  <thead>\n",
              "    <tr style=\"text-align: right;\">\n",
              "      <th></th>\n",
              "      <th>Orig</th>\n",
              "      <th>con1</th>\n",
              "      <th>con2</th>\n",
              "      <th>Dest</th>\n",
              "      <th>op_flight1</th>\n",
              "      <th>op_flight2</th>\n",
              "      <th>op_flight3</th>\n",
              "      <th>depDay</th>\n",
              "      <th>elaptime</th>\n",
              "      <th>detour</th>\n",
              "      <th>arrDay</th>\n",
              "      <th>stops</th>\n",
              "      <th>cluster</th>\n",
              "      <th>id</th>\n",
              "      <th>real_dist</th>\n",
              "      <th>total_time</th>\n",
              "      <th>connection_time</th>\n",
              "      <th>dep_hour</th>\n",
              "      <th>arr_hour</th>\n",
              "    </tr>\n",
              "  </thead>\n",
              "  <tbody>\n",
              "    <tr>\n",
              "      <th>0</th>\n",
              "      <td>26</td>\n",
              "      <td>64</td>\n",
              "      <td>239</td>\n",
              "      <td>181</td>\n",
              "      <td>732</td>\n",
              "      <td>2315</td>\n",
              "      <td>827</td>\n",
              "      <td>2</td>\n",
              "      <td>535</td>\n",
              "      <td>1.02676</td>\n",
              "      <td>3</td>\n",
              "      <td>1</td>\n",
              "      <td>111</td>\n",
              "      <td>1</td>\n",
              "      <td>3899.12</td>\n",
              "      <td>535.0</td>\n",
              "      <td>0.0</td>\n",
              "      <td>13</td>\n",
              "      <td>22</td>\n",
              "    </tr>\n",
              "    <tr>\n",
              "      <th>1</th>\n",
              "      <td>26</td>\n",
              "      <td>64</td>\n",
              "      <td>239</td>\n",
              "      <td>181</td>\n",
              "      <td>732</td>\n",
              "      <td>2315</td>\n",
              "      <td>827</td>\n",
              "      <td>4</td>\n",
              "      <td>535</td>\n",
              "      <td>1.02676</td>\n",
              "      <td>5</td>\n",
              "      <td>1</td>\n",
              "      <td>111</td>\n",
              "      <td>2</td>\n",
              "      <td>3899.12</td>\n",
              "      <td>535.0</td>\n",
              "      <td>0.0</td>\n",
              "      <td>13</td>\n",
              "      <td>22</td>\n",
              "    </tr>\n",
              "    <tr>\n",
              "      <th>2</th>\n",
              "      <td>26</td>\n",
              "      <td>64</td>\n",
              "      <td>239</td>\n",
              "      <td>181</td>\n",
              "      <td>732</td>\n",
              "      <td>2315</td>\n",
              "      <td>827</td>\n",
              "      <td>5</td>\n",
              "      <td>535</td>\n",
              "      <td>1.02676</td>\n",
              "      <td>6</td>\n",
              "      <td>1</td>\n",
              "      <td>111</td>\n",
              "      <td>3</td>\n",
              "      <td>3899.12</td>\n",
              "      <td>535.0</td>\n",
              "      <td>0.0</td>\n",
              "      <td>13</td>\n",
              "      <td>22</td>\n",
              "    </tr>\n",
              "    <tr>\n",
              "      <th>3</th>\n",
              "      <td>26</td>\n",
              "      <td>64</td>\n",
              "      <td>239</td>\n",
              "      <td>181</td>\n",
              "      <td>732</td>\n",
              "      <td>1601</td>\n",
              "      <td>827</td>\n",
              "      <td>5</td>\n",
              "      <td>775</td>\n",
              "      <td>1.02676</td>\n",
              "      <td>6</td>\n",
              "      <td>1</td>\n",
              "      <td>111</td>\n",
              "      <td>4</td>\n",
              "      <td>3899.12</td>\n",
              "      <td>775.0</td>\n",
              "      <td>0.0</td>\n",
              "      <td>13</td>\n",
              "      <td>2</td>\n",
              "    </tr>\n",
              "    <tr>\n",
              "      <th>4</th>\n",
              "      <td>26</td>\n",
              "      <td>64</td>\n",
              "      <td>239</td>\n",
              "      <td>181</td>\n",
              "      <td>732</td>\n",
              "      <td>2315</td>\n",
              "      <td>827</td>\n",
              "      <td>6</td>\n",
              "      <td>535</td>\n",
              "      <td>1.02676</td>\n",
              "      <td>7</td>\n",
              "      <td>1</td>\n",
              "      <td>111</td>\n",
              "      <td>5</td>\n",
              "      <td>3899.12</td>\n",
              "      <td>535.0</td>\n",
              "      <td>0.0</td>\n",
              "      <td>13</td>\n",
              "      <td>22</td>\n",
              "    </tr>\n",
              "    <tr>\n",
              "      <th>...</th>\n",
              "      <td>...</td>\n",
              "      <td>...</td>\n",
              "      <td>...</td>\n",
              "      <td>...</td>\n",
              "      <td>...</td>\n",
              "      <td>...</td>\n",
              "      <td>...</td>\n",
              "      <td>...</td>\n",
              "      <td>...</td>\n",
              "      <td>...</td>\n",
              "      <td>...</td>\n",
              "      <td>...</td>\n",
              "      <td>...</td>\n",
              "      <td>...</td>\n",
              "      <td>...</td>\n",
              "      <td>...</td>\n",
              "      <td>...</td>\n",
              "      <td>...</td>\n",
              "      <td>...</td>\n",
              "    </tr>\n",
              "    <tr>\n",
              "      <th>241520</th>\n",
              "      <td>41</td>\n",
              "      <td>41</td>\n",
              "      <td>239</td>\n",
              "      <td>26</td>\n",
              "      <td>1703</td>\n",
              "      <td>1950</td>\n",
              "      <td>827</td>\n",
              "      <td>2</td>\n",
              "      <td>1290</td>\n",
              "      <td>1.77380</td>\n",
              "      <td>3</td>\n",
              "      <td>1</td>\n",
              "      <td>1601</td>\n",
              "      <td>241521</td>\n",
              "      <td>8143.00</td>\n",
              "      <td>1290.0</td>\n",
              "      <td>0.0</td>\n",
              "      <td>8</td>\n",
              "      <td>6</td>\n",
              "    </tr>\n",
              "    <tr>\n",
              "      <th>241521</th>\n",
              "      <td>41</td>\n",
              "      <td>26</td>\n",
              "      <td>239</td>\n",
              "      <td>26</td>\n",
              "      <td>874</td>\n",
              "      <td>1724</td>\n",
              "      <td>827</td>\n",
              "      <td>7</td>\n",
              "      <td>686</td>\n",
              "      <td>1.06290</td>\n",
              "      <td>1</td>\n",
              "      <td>1</td>\n",
              "      <td>1601</td>\n",
              "      <td>241522</td>\n",
              "      <td>6034.81</td>\n",
              "      <td>686.0</td>\n",
              "      <td>0.0</td>\n",
              "      <td>23</td>\n",
              "      <td>10</td>\n",
              "    </tr>\n",
              "    <tr>\n",
              "      <th>241522</th>\n",
              "      <td>1</td>\n",
              "      <td>1</td>\n",
              "      <td>239</td>\n",
              "      <td>26</td>\n",
              "      <td>1516</td>\n",
              "      <td>1317</td>\n",
              "      <td>827</td>\n",
              "      <td>2</td>\n",
              "      <td>1541</td>\n",
              "      <td>1.13030</td>\n",
              "      <td>4</td>\n",
              "      <td>1</td>\n",
              "      <td>1601</td>\n",
              "      <td>241523</td>\n",
              "      <td>10336.84</td>\n",
              "      <td>1541.0</td>\n",
              "      <td>0.0</td>\n",
              "      <td>6</td>\n",
              "      <td>8</td>\n",
              "    </tr>\n",
              "    <tr>\n",
              "      <th>241523</th>\n",
              "      <td>1</td>\n",
              "      <td>1</td>\n",
              "      <td>63</td>\n",
              "      <td>26</td>\n",
              "      <td>2691</td>\n",
              "      <td>1</td>\n",
              "      <td>131</td>\n",
              "      <td>6</td>\n",
              "      <td>1430</td>\n",
              "      <td>1.23530</td>\n",
              "      <td>7</td>\n",
              "      <td>2</td>\n",
              "      <td>1601</td>\n",
              "      <td>241524</td>\n",
              "      <td>11651.70</td>\n",
              "      <td>1430.0</td>\n",
              "      <td>2146090.0</td>\n",
              "      <td>16</td>\n",
              "      <td>15</td>\n",
              "    </tr>\n",
              "    <tr>\n",
              "      <th>241524</th>\n",
              "      <td>1</td>\n",
              "      <td>45</td>\n",
              "      <td>239</td>\n",
              "      <td>26</td>\n",
              "      <td>127</td>\n",
              "      <td>2039</td>\n",
              "      <td>827</td>\n",
              "      <td>4</td>\n",
              "      <td>1000</td>\n",
              "      <td>1.48380</td>\n",
              "      <td>5</td>\n",
              "      <td>1</td>\n",
              "      <td>1601</td>\n",
              "      <td>241525</td>\n",
              "      <td>11512.87</td>\n",
              "      <td>1000.0</td>\n",
              "      <td>0.0</td>\n",
              "      <td>20</td>\n",
              "      <td>13</td>\n",
              "    </tr>\n",
              "  </tbody>\n",
              "</table>\n",
              "<p>241525 rows × 19 columns</p>\n",
              "</div>"
            ],
            "text/plain": [
              "        Orig  con1  con2  Dest  op_flight1  op_flight2  op_flight3  depDay   \n",
              "0         26    64   239   181         732        2315         827       2  \\\n",
              "1         26    64   239   181         732        2315         827       4   \n",
              "2         26    64   239   181         732        2315         827       5   \n",
              "3         26    64   239   181         732        1601         827       5   \n",
              "4         26    64   239   181         732        2315         827       6   \n",
              "...      ...   ...   ...   ...         ...         ...         ...     ...   \n",
              "241520    41    41   239    26        1703        1950         827       2   \n",
              "241521    41    26   239    26         874        1724         827       7   \n",
              "241522     1     1   239    26        1516        1317         827       2   \n",
              "241523     1     1    63    26        2691           1         131       6   \n",
              "241524     1    45   239    26         127        2039         827       4   \n",
              "\n",
              "        elaptime   detour  arrDay  stops  cluster      id  real_dist   \n",
              "0            535  1.02676       3      1      111       1    3899.12  \\\n",
              "1            535  1.02676       5      1      111       2    3899.12   \n",
              "2            535  1.02676       6      1      111       3    3899.12   \n",
              "3            775  1.02676       6      1      111       4    3899.12   \n",
              "4            535  1.02676       7      1      111       5    3899.12   \n",
              "...          ...      ...     ...    ...      ...     ...        ...   \n",
              "241520      1290  1.77380       3      1     1601  241521    8143.00   \n",
              "241521       686  1.06290       1      1     1601  241522    6034.81   \n",
              "241522      1541  1.13030       4      1     1601  241523   10336.84   \n",
              "241523      1430  1.23530       7      2     1601  241524   11651.70   \n",
              "241524      1000  1.48380       5      1     1601  241525   11512.87   \n",
              "\n",
              "        total_time  connection_time  dep_hour  arr_hour  \n",
              "0            535.0              0.0        13        22  \n",
              "1            535.0              0.0        13        22  \n",
              "2            535.0              0.0        13        22  \n",
              "3            775.0              0.0        13         2  \n",
              "4            535.0              0.0        13        22  \n",
              "...            ...              ...       ...       ...  \n",
              "241520      1290.0              0.0         8         6  \n",
              "241521       686.0              0.0        23        10  \n",
              "241522      1541.0              0.0         6         8  \n",
              "241523      1430.0        2146090.0        16        15  \n",
              "241524      1000.0              0.0        20        13  \n",
              "\n",
              "[241525 rows x 19 columns]"
            ]
          },
          "execution_count": 24,
          "metadata": {},
          "output_type": "execute_result"
        }
      ],
      "source": [
        "kaggle_data = pd.read_csv('./dataset/testset_kaggle_prep.csv').drop(columns='Unnamed: 0')\n",
        "kaggle_data"
      ]
    },
    {
      "cell_type": "code",
      "execution_count": 25,
      "metadata": {
        "colab": {
          "base_uri": "https://localhost:8080/"
        },
        "id": "T0i3tyzrsTeR",
        "outputId": "105e48af-74b8-4373-e46d-6e6d8cb74b11"
      },
      "outputs": [
        {
          "data": {
            "text/plain": [
              "Index(['Orig', 'con1', 'con2', 'Dest', 'op_flight1', 'op_flight2',\n",
              "       'op_flight3', 'depDay', 'elaptime', 'detour', 'arrDay', 'stops',\n",
              "       'cluster', 'id', 'real_dist', 'total_time', 'connection_time',\n",
              "       'dep_hour', 'arr_hour'],\n",
              "      dtype='object')"
            ]
          },
          "execution_count": 25,
          "metadata": {},
          "output_type": "execute_result"
        }
      ],
      "source": [
        "kaggle_data.columns"
      ]
    },
    {
      "cell_type": "markdown",
      "metadata": {
        "id": "LNohIT4hyrIg"
      },
      "source": [
        "standardisation"
      ]
    },
    {
      "cell_type": "code",
      "execution_count": 26,
      "metadata": {
        "id": "NPYRXWexqrFb"
      },
      "outputs": [],
      "source": [
        "#  'id', / paxe, TOT_pax, market_share\n",
        "X_k = kaggle_data.loc[:, ['Orig', 'con1', 'con2', 'Dest', 'op_flight1', 'op_flight2', 'op_flight3',\n",
        "                          'depDay', 'elaptime', 'detour', 'arrDay', 'stops', 'cluster', 'real_dist',\n",
        "                          'total_time', 'connection_time', 'dep_hour', 'arr_hour']]\n",
        "\n",
        "sc_X = StandardScaler()\n",
        "X_k = sc_X.fit_transform(X_k)"
      ]
    },
    {
      "cell_type": "markdown",
      "metadata": {
        "id": "9zfa6UXCyrIg"
      },
      "source": [
        "prediction on new data"
      ]
    },
    {
      "cell_type": "code",
      "execution_count": 28,
      "metadata": {
        "colab": {
          "base_uri": "https://localhost:8080/",
          "height": 74
        },
        "id": "rjp0F5lI9PHB",
        "outputId": "4297038a-fd61-4809-960a-384269a15501"
      },
      "outputs": [
        {
          "data": {
            "text/html": [
              "<style>#sk-container-id-4 {color: black;background-color: white;}#sk-container-id-4 pre{padding: 0;}#sk-container-id-4 div.sk-toggleable {background-color: white;}#sk-container-id-4 label.sk-toggleable__label {cursor: pointer;display: block;width: 100%;margin-bottom: 0;padding: 0.3em;box-sizing: border-box;text-align: center;}#sk-container-id-4 label.sk-toggleable__label-arrow:before {content: \"▸\";float: left;margin-right: 0.25em;color: #696969;}#sk-container-id-4 label.sk-toggleable__label-arrow:hover:before {color: black;}#sk-container-id-4 div.sk-estimator:hover label.sk-toggleable__label-arrow:before {color: black;}#sk-container-id-4 div.sk-toggleable__content {max-height: 0;max-width: 0;overflow: hidden;text-align: left;background-color: #f0f8ff;}#sk-container-id-4 div.sk-toggleable__content pre {margin: 0.2em;color: black;border-radius: 0.25em;background-color: #f0f8ff;}#sk-container-id-4 input.sk-toggleable__control:checked~div.sk-toggleable__content {max-height: 200px;max-width: 100%;overflow: auto;}#sk-container-id-4 input.sk-toggleable__control:checked~label.sk-toggleable__label-arrow:before {content: \"▾\";}#sk-container-id-4 div.sk-estimator input.sk-toggleable__control:checked~label.sk-toggleable__label {background-color: #d4ebff;}#sk-container-id-4 div.sk-label input.sk-toggleable__control:checked~label.sk-toggleable__label {background-color: #d4ebff;}#sk-container-id-4 input.sk-hidden--visually {border: 0;clip: rect(1px 1px 1px 1px);clip: rect(1px, 1px, 1px, 1px);height: 1px;margin: -1px;overflow: hidden;padding: 0;position: absolute;width: 1px;}#sk-container-id-4 div.sk-estimator {font-family: monospace;background-color: #f0f8ff;border: 1px dotted black;border-radius: 0.25em;box-sizing: border-box;margin-bottom: 0.5em;}#sk-container-id-4 div.sk-estimator:hover {background-color: #d4ebff;}#sk-container-id-4 div.sk-parallel-item::after {content: \"\";width: 100%;border-bottom: 1px solid gray;flex-grow: 1;}#sk-container-id-4 div.sk-label:hover label.sk-toggleable__label {background-color: #d4ebff;}#sk-container-id-4 div.sk-serial::before {content: \"\";position: absolute;border-left: 1px solid gray;box-sizing: border-box;top: 0;bottom: 0;left: 50%;z-index: 0;}#sk-container-id-4 div.sk-serial {display: flex;flex-direction: column;align-items: center;background-color: white;padding-right: 0.2em;padding-left: 0.2em;position: relative;}#sk-container-id-4 div.sk-item {position: relative;z-index: 1;}#sk-container-id-4 div.sk-parallel {display: flex;align-items: stretch;justify-content: center;background-color: white;position: relative;}#sk-container-id-4 div.sk-item::before, #sk-container-id-4 div.sk-parallel-item::before {content: \"\";position: absolute;border-left: 1px solid gray;box-sizing: border-box;top: 0;bottom: 0;left: 50%;z-index: -1;}#sk-container-id-4 div.sk-parallel-item {display: flex;flex-direction: column;z-index: 1;position: relative;background-color: white;}#sk-container-id-4 div.sk-parallel-item:first-child::after {align-self: flex-end;width: 50%;}#sk-container-id-4 div.sk-parallel-item:last-child::after {align-self: flex-start;width: 50%;}#sk-container-id-4 div.sk-parallel-item:only-child::after {width: 0;}#sk-container-id-4 div.sk-dashed-wrapped {border: 1px dashed gray;margin: 0 0.4em 0.5em 0.4em;box-sizing: border-box;padding-bottom: 0.4em;background-color: white;}#sk-container-id-4 div.sk-label label {font-family: monospace;font-weight: bold;display: inline-block;line-height: 1.2em;}#sk-container-id-4 div.sk-label-container {text-align: center;}#sk-container-id-4 div.sk-container {/* jupyter's `normalize.less` sets `[hidden] { display: none; }` but bootstrap.min.css set `[hidden] { display: none !important; }` so we also need the `!important` here to be able to override the default hidden behavior on the sphinx rendered scikit-learn.org. See: https://github.com/scikit-learn/scikit-learn/issues/21755 */display: inline-block !important;position: relative;}#sk-container-id-4 div.sk-text-repr-fallback {display: none;}</style><div id=\"sk-container-id-4\" class=\"sk-top-container\"><div class=\"sk-text-repr-fallback\"><pre>RandomForestRegressor(max_depth=60, n_estimators=1000, random_state=0)</pre><b>In a Jupyter environment, please rerun this cell to show the HTML representation or trust the notebook. <br />On GitHub, the HTML representation is unable to render, please try loading this page with nbviewer.org.</b></div><div class=\"sk-container\" hidden><div class=\"sk-item\"><div class=\"sk-estimator sk-toggleable\"><input class=\"sk-toggleable__control sk-hidden--visually\" id=\"sk-estimator-id-6\" type=\"checkbox\" checked><label for=\"sk-estimator-id-6\" class=\"sk-toggleable__label sk-toggleable__label-arrow\">RandomForestRegressor</label><div class=\"sk-toggleable__content\"><pre>RandomForestRegressor(max_depth=60, n_estimators=1000, random_state=0)</pre></div></div></div></div></div>"
            ],
            "text/plain": [
              "RandomForestRegressor(max_depth=60, n_estimators=1000, random_state=0)"
            ]
          },
          "execution_count": 28,
          "metadata": {},
          "output_type": "execute_result"
        }
      ],
      "source": [
        "# Create a Random Forest Regressor\n",
        "forest_k = RandomForestRegressor(n_estimators=1000, random_state=0, max_depth=60)\n",
        "\n",
        "# Fit the Random Forest Regressor to the training data\n",
        "forest_k.fit(X_train, y_train)"
      ]
    },
    {
      "cell_type": "code",
      "execution_count": 30,
      "metadata": {
        "colab": {
          "base_uri": "https://localhost:8080/"
        },
        "id": "KkTWbqGs9anq",
        "outputId": "7fcb80a6-3ed4-42ed-86af-7c51d3517c9e"
      },
      "outputs": [
        {
          "name": "stdout",
          "output_type": "stream",
          "text": [
            "Random Forest predicted values for the kaggle dataset: [0.0002 0.0004 0.0005 ... 0.0011 0.0987 0.0072]\n"
          ]
        }
      ],
      "source": [
        "# get the predicted y values for the validation set\n",
        "y_k_pred = forest.predict(X_k)\n",
        "print(\"Random Forest predicted values for the kaggle dataset:\", y_k_pred)"
      ]
    },
    {
      "cell_type": "code",
      "execution_count": 33,
      "metadata": {
        "id": "19qOCNTGyrIg"
      },
      "outputs": [],
      "source": [
        "# get the id column from the original dataframe\n",
        "id_column = kaggle_data['id'].reset_index(drop=True)\n",
        "\n",
        "# create dataframes for predicted values with id column\n",
        "val_rf = pd.concat([id_column, pd.DataFrame(y_k_pred, columns=[\"Predicted\"])], axis=1)\n",
        "\n",
        "# save dataframes as CSV files\n",
        "val_rf.to_csv('./dataset/kaggle_pred_v2.csv', index=False)"
      ]
    },
    {
      "cell_type": "markdown",
      "metadata": {
        "id": "CM5cbswyyrIh"
      },
      "source": [
        "## Try out multioutput regressor\n",
        "https://scikit-learn.org/stable/modules/generated/sklearn.multioutput.MultiOutputRegressor.html#sklearn.multioutput.MultiOutputRegressor\n",
        "https://scikit-learn.org/stable/auto_examples/ensemble/plot_random_forest_regression_multioutput.html"
      ]
    },
    {
      "cell_type": "code",
      "execution_count": 34,
      "metadata": {
        "id": "w8H8bZ2ayrIh"
      },
      "outputs": [],
      "source": [
        "X_multirf = df.loc[:, ['Orig', 'con1', 'con2', 'Dest', 'op_flight1', 'op_flight2', 'op_flight3',\n",
        "                       'depDay', 'elaptime', 'detour', 'arrDay', 'stops', 'cluster', 'real_dist',\n",
        "                       'total_time', 'connection_time']]\n",
        "y_multirf = df.loc[:, ['market_share', 'paxe', 'TOT_pax', 'dep_hour', 'arr_hour']]\n",
        "\n",
        "X_multirf_train, X_multirf_test, y_multirf_train, y_multirf_test = train_test_split(X_multirf, y_multirf, train_size=0.8, random_state=0)"
      ]
    },
    {
      "cell_type": "code",
      "execution_count": 35,
      "metadata": {
        "id": "I77EUoreyrIh"
      },
      "outputs": [],
      "source": [
        "sc_X = StandardScaler()\n",
        "X_multirf_train = sc_X.fit_transform(X_multirf_train)\n",
        "X_multirf_test = sc_X.fit_transform(X_multirf_test)"
      ]
    },
    {
      "cell_type": "code",
      "execution_count": 36,
      "metadata": {},
      "outputs": [],
      "source": [
        "from sklearn.multioutput import MultiOutputRegressor\n",
        "\n",
        "# Create a model & Fit into the model\n",
        "regr_multirf = MultiOutputRegressor(\n",
        "    RandomForestRegressor(n_estimators=1000, max_depth=60, random_state=0)\n",
        ")\n",
        "regr_multirf.fit(X_multirf_train, y_multirf_train)\n",
        "\n",
        "# Predict on new data\n",
        "y_m_pred_train = regr_multirf.predict(X_multirf_train)\n",
        "y_m_pred_test = regr_multirf.predict(X_multirf_test)"
      ]
    },
    {
      "cell_type": "code",
      "execution_count": 37,
      "metadata": {},
      "outputs": [
        {
          "name": "stdout",
          "output_type": "stream",
          "text": [
            "Multioutput Regressor\n",
            "--------------------------------------------------------------------------------\n",
            "\n",
            "MSE (Training) = 1757.2342\n",
            "MSE (Testing) = 37024.5580\n"
          ]
        }
      ],
      "source": [
        "print('Multioutput Regressor')\n",
        "print('--------------------------------------------------------------------------------\\n')\n",
        "multirf_train_mse = mean_squared_error(y_multirf_train, y_m_pred_train)\n",
        "multirf_test_mse = mean_squared_error(y_multirf_test, y_m_pred_test)\n",
        "print(\"MSE (Training) = %.4f\" % multirf_train_mse)\n",
        "print(\"MSE (Testing) = %.4f\" % multirf_test_mse)"
      ]
    },
    {
      "cell_type": "code",
      "execution_count": 41,
      "metadata": {},
      "outputs": [],
      "source": [
        "X_k_multirf = kaggle_data.loc[:, ['Orig', 'con1', 'con2', 'Dest', 'op_flight1', 'op_flight2', 'op_flight3',\n",
        "                          'depDay', 'elaptime', 'detour', 'arrDay', 'stops', 'cluster', 'real_dist',\n",
        "                          'total_time', 'connection_time']]\n",
        "X_k_multirf = sc_X.fit_transform(X_k_multirf)"
      ]
    },
    {
      "cell_type": "code",
      "execution_count": 42,
      "metadata": {},
      "outputs": [
        {
          "name": "stdout",
          "output_type": "stream",
          "text": [
            "Random Forest predicted values for the kaggle dataset: [[1.90500000e-03 2.98993333e-01 2.24685010e+03 1.27420000e+01\n",
            "  2.00570000e+01]\n",
            " [2.24000000e-03 2.78640000e-01 2.24688588e+03 1.27380000e+01\n",
            "  2.00560000e+01]\n",
            " [2.74000000e-03 2.69753333e-01 2.24688588e+03 1.27380000e+01\n",
            "  1.99950000e+01]\n",
            " ...\n",
            " [1.87000000e-03 5.86806667e-01 2.51715387e+03 6.29500000e+00\n",
            "  6.27300000e+00]\n",
            " [1.27080000e-01 1.42416000e+00 2.92813001e+02 1.46250000e+01\n",
            "  1.07930000e+01]\n",
            " [1.17950000e-02 2.75026567e+00 6.48273656e+02 2.03410000e+01\n",
            "  1.34410000e+01]]\n"
          ]
        }
      ],
      "source": [
        "y_m_pred_kaggle = regr_multirf.predict(X_k_multirf)\n",
        "print(\"Random Forest predicted values for the kaggle dataset:\", y_m_pred_kaggle)"
      ]
    },
    {
      "cell_type": "code",
      "execution_count": 47,
      "metadata": {},
      "outputs": [
        {
          "data": {
            "text/html": [
              "<div>\n",
              "<style scoped>\n",
              "    .dataframe tbody tr th:only-of-type {\n",
              "        vertical-align: middle;\n",
              "    }\n",
              "\n",
              "    .dataframe tbody tr th {\n",
              "        vertical-align: top;\n",
              "    }\n",
              "\n",
              "    .dataframe thead th {\n",
              "        text-align: right;\n",
              "    }\n",
              "</style>\n",
              "<table border=\"1\" class=\"dataframe\">\n",
              "  <thead>\n",
              "    <tr style=\"text-align: right;\">\n",
              "      <th></th>\n",
              "      <th>id</th>\n",
              "      <th>market_share</th>\n",
              "      <th>paxe</th>\n",
              "      <th>TOT_pax</th>\n",
              "      <th>dep_hour</th>\n",
              "      <th>arr_hour</th>\n",
              "    </tr>\n",
              "  </thead>\n",
              "  <tbody>\n",
              "    <tr>\n",
              "      <th>0</th>\n",
              "      <td>1</td>\n",
              "      <td>0.001905</td>\n",
              "      <td>0.298993</td>\n",
              "      <td>2246.850104</td>\n",
              "      <td>12.742</td>\n",
              "      <td>20.057</td>\n",
              "    </tr>\n",
              "    <tr>\n",
              "      <th>1</th>\n",
              "      <td>2</td>\n",
              "      <td>0.002240</td>\n",
              "      <td>0.278640</td>\n",
              "      <td>2246.885880</td>\n",
              "      <td>12.738</td>\n",
              "      <td>20.056</td>\n",
              "    </tr>\n",
              "    <tr>\n",
              "      <th>2</th>\n",
              "      <td>3</td>\n",
              "      <td>0.002740</td>\n",
              "      <td>0.269753</td>\n",
              "      <td>2246.885880</td>\n",
              "      <td>12.738</td>\n",
              "      <td>19.995</td>\n",
              "    </tr>\n",
              "    <tr>\n",
              "      <th>3</th>\n",
              "      <td>4</td>\n",
              "      <td>0.001080</td>\n",
              "      <td>0.301000</td>\n",
              "      <td>2246.885880</td>\n",
              "      <td>12.920</td>\n",
              "      <td>3.755</td>\n",
              "    </tr>\n",
              "    <tr>\n",
              "      <th>4</th>\n",
              "      <td>5</td>\n",
              "      <td>0.002220</td>\n",
              "      <td>0.289820</td>\n",
              "      <td>2246.885880</td>\n",
              "      <td>12.738</td>\n",
              "      <td>19.932</td>\n",
              "    </tr>\n",
              "    <tr>\n",
              "      <th>...</th>\n",
              "      <td>...</td>\n",
              "      <td>...</td>\n",
              "      <td>...</td>\n",
              "      <td>...</td>\n",
              "      <td>...</td>\n",
              "      <td>...</td>\n",
              "    </tr>\n",
              "    <tr>\n",
              "      <th>241520</th>\n",
              "      <td>241521</td>\n",
              "      <td>0.505925</td>\n",
              "      <td>0.619200</td>\n",
              "      <td>5.656426</td>\n",
              "      <td>10.930</td>\n",
              "      <td>6.005</td>\n",
              "    </tr>\n",
              "    <tr>\n",
              "      <th>241521</th>\n",
              "      <td>241522</td>\n",
              "      <td>0.080160</td>\n",
              "      <td>0.910824</td>\n",
              "      <td>256.729315</td>\n",
              "      <td>8.268</td>\n",
              "      <td>9.533</td>\n",
              "    </tr>\n",
              "    <tr>\n",
              "      <th>241522</th>\n",
              "      <td>241523</td>\n",
              "      <td>0.001870</td>\n",
              "      <td>0.586807</td>\n",
              "      <td>2517.153866</td>\n",
              "      <td>6.295</td>\n",
              "      <td>6.273</td>\n",
              "    </tr>\n",
              "    <tr>\n",
              "      <th>241523</th>\n",
              "      <td>241524</td>\n",
              "      <td>0.127080</td>\n",
              "      <td>1.424160</td>\n",
              "      <td>292.813001</td>\n",
              "      <td>14.625</td>\n",
              "      <td>10.793</td>\n",
              "    </tr>\n",
              "    <tr>\n",
              "      <th>241524</th>\n",
              "      <td>241525</td>\n",
              "      <td>0.011795</td>\n",
              "      <td>2.750266</td>\n",
              "      <td>648.273656</td>\n",
              "      <td>20.341</td>\n",
              "      <td>13.441</td>\n",
              "    </tr>\n",
              "  </tbody>\n",
              "</table>\n",
              "<p>241525 rows × 6 columns</p>\n",
              "</div>"
            ],
            "text/plain": [
              "            id  market_share      paxe      TOT_pax  dep_hour  arr_hour\n",
              "0            1      0.001905  0.298993  2246.850104    12.742    20.057\n",
              "1            2      0.002240  0.278640  2246.885880    12.738    20.056\n",
              "2            3      0.002740  0.269753  2246.885880    12.738    19.995\n",
              "3            4      0.001080  0.301000  2246.885880    12.920     3.755\n",
              "4            5      0.002220  0.289820  2246.885880    12.738    19.932\n",
              "...        ...           ...       ...          ...       ...       ...\n",
              "241520  241521      0.505925  0.619200     5.656426    10.930     6.005\n",
              "241521  241522      0.080160  0.910824   256.729315     8.268     9.533\n",
              "241522  241523      0.001870  0.586807  2517.153866     6.295     6.273\n",
              "241523  241524      0.127080  1.424160   292.813001    14.625    10.793\n",
              "241524  241525      0.011795  2.750266   648.273656    20.341    13.441\n",
              "\n",
              "[241525 rows x 6 columns]"
            ]
          },
          "metadata": {},
          "output_type": "display_data"
        }
      ],
      "source": [
        "df_kaggle = pd.DataFrame(y_m_pred_kaggle, columns=['market_share', 'paxe', 'TOT_pax', 'dep_hour', 'arr_hour'])\n",
        "df_kaggle = pd.concat([id_column, df_kaggle], axis=1)\n",
        "df_kaggle.to_csv('./dataset/kaggle_pred_multirf.csv')\n",
        "display(df_kaggle)"
      ]
    },
    {
      "cell_type": "code",
      "execution_count": 54,
      "metadata": {},
      "outputs": [
        {
          "data": {
            "text/html": [
              "<div>\n",
              "<style scoped>\n",
              "    .dataframe tbody tr th:only-of-type {\n",
              "        vertical-align: middle;\n",
              "    }\n",
              "\n",
              "    .dataframe tbody tr th {\n",
              "        vertical-align: top;\n",
              "    }\n",
              "\n",
              "    .dataframe thead th {\n",
              "        text-align: right;\n",
              "    }\n",
              "</style>\n",
              "<table border=\"1\" class=\"dataframe\">\n",
              "  <thead>\n",
              "    <tr style=\"text-align: right;\">\n",
              "      <th></th>\n",
              "      <th>id</th>\n",
              "      <th>Predicted</th>\n",
              "    </tr>\n",
              "  </thead>\n",
              "  <tbody>\n",
              "    <tr>\n",
              "      <th>0</th>\n",
              "      <td>1</td>\n",
              "      <td>0.001905</td>\n",
              "    </tr>\n",
              "    <tr>\n",
              "      <th>1</th>\n",
              "      <td>2</td>\n",
              "      <td>0.002240</td>\n",
              "    </tr>\n",
              "    <tr>\n",
              "      <th>2</th>\n",
              "      <td>3</td>\n",
              "      <td>0.002740</td>\n",
              "    </tr>\n",
              "    <tr>\n",
              "      <th>3</th>\n",
              "      <td>4</td>\n",
              "      <td>0.001080</td>\n",
              "    </tr>\n",
              "    <tr>\n",
              "      <th>4</th>\n",
              "      <td>5</td>\n",
              "      <td>0.002220</td>\n",
              "    </tr>\n",
              "    <tr>\n",
              "      <th>...</th>\n",
              "      <td>...</td>\n",
              "      <td>...</td>\n",
              "    </tr>\n",
              "    <tr>\n",
              "      <th>241520</th>\n",
              "      <td>241521</td>\n",
              "      <td>0.505925</td>\n",
              "    </tr>\n",
              "    <tr>\n",
              "      <th>241521</th>\n",
              "      <td>241522</td>\n",
              "      <td>0.080160</td>\n",
              "    </tr>\n",
              "    <tr>\n",
              "      <th>241522</th>\n",
              "      <td>241523</td>\n",
              "      <td>0.001870</td>\n",
              "    </tr>\n",
              "    <tr>\n",
              "      <th>241523</th>\n",
              "      <td>241524</td>\n",
              "      <td>0.127080</td>\n",
              "    </tr>\n",
              "    <tr>\n",
              "      <th>241524</th>\n",
              "      <td>241525</td>\n",
              "      <td>0.011795</td>\n",
              "    </tr>\n",
              "  </tbody>\n",
              "</table>\n",
              "<p>241525 rows × 2 columns</p>\n",
              "</div>"
            ],
            "text/plain": [
              "            id  Predicted\n",
              "0            1   0.001905\n",
              "1            2   0.002240\n",
              "2            3   0.002740\n",
              "3            4   0.001080\n",
              "4            5   0.002220\n",
              "...        ...        ...\n",
              "241520  241521   0.505925\n",
              "241521  241522   0.080160\n",
              "241522  241523   0.001870\n",
              "241523  241524   0.127080\n",
              "241524  241525   0.011795\n",
              "\n",
              "[241525 rows x 2 columns]"
            ]
          },
          "execution_count": 54,
          "metadata": {},
          "output_type": "execute_result"
        }
      ],
      "source": [
        "df_kaggle_submit = pd.concat([id_column, df_kaggle['market_share']], axis=1)\n",
        "df_kaggle_submit = df_kaggle_submit.rename(columns={'market_share': 'Predicted'})\n",
        "df_kaggle_submit"
      ]
    },
    {
      "cell_type": "code",
      "execution_count": 56,
      "metadata": {},
      "outputs": [],
      "source": [
        "df_kaggle_submit.to_csv('./dataset/kaggle_pred_multirf_submission.csv', index=False)"
      ]
    }
  ],
  "metadata": {
    "accelerator": "GPU",
    "colab": {
      "gpuType": "V100",
      "provenance": []
    },
    "kernelspec": {
      "display_name": "Python 3",
      "name": "python3"
    },
    "language_info": {
      "codemirror_mode": {
        "name": "ipython",
        "version": 3
      },
      "file_extension": ".py",
      "mimetype": "text/x-python",
      "name": "python",
      "nbconvert_exporter": "python",
      "pygments_lexer": "ipython3",
      "version": "3.11.2"
    }
  },
  "nbformat": 4,
  "nbformat_minor": 0
}
