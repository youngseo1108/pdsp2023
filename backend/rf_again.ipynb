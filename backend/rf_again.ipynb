{
  "cells": [
    {
      "cell_type": "markdown",
      "metadata": {
        "id": "e6HKY3abyrIO"
      },
      "source": [
        "# Random forest\n",
        "\n",
        "random forest regressor: multiple inputs - multiple outputs\n",
        "- input\n",
        "  - user: 'Orig', 'Dest', 'depDay', 'arrDay' \n",
        "  - other attributes: 'con1', 'con2', 'op_flight1', 'op_flight2', 'op_flight3',\n",
        "               'elaptime', 'detour', 'stops', 'cluster', 'real_dist',\n",
        "               'total_time', 'connection_time', 'dep_hour', 'arr_hour'\n",
        "- output: 'market_share', 'paxe', 'TOT_pax'"
      ]
    },
    {
      "cell_type": "code",
      "execution_count": null,
      "metadata": {},
      "outputs": [],
      "source": [
        "import pandas as pd\n",
        "from sklearn.model_selection import train_test_split\n",
        "from sklearn.preprocessing import StandardScaler\n",
        "from sklearn.ensemble import RandomForestRegressor\n",
        "from sklearn.metrics import mean_squared_error\n",
        "from sklearn.multioutput import MultiOutputRegressor"
      ]
    },
    {
      "cell_type": "markdown",
      "metadata": {
        "id": "4FJAz9ppyrIR"
      },
      "source": [
        "### 1. load data"
      ]
    },
    {
      "cell_type": "code",
      "execution_count": null,
      "metadata": {
        "colab": {
          "base_uri": "https://localhost:8080/",
          "height": 255
        },
        "id": "pdEgg8TOyrIR",
        "outputId": "b110e681-9a7c-455a-fed7-90d562e17651"
      },
      "outputs": [],
      "source": [
        "# read the preprocessed data\n",
        "df = pd.read_csv('./dataset/dataprep_v2.csv').drop(columns=['Unnamed: 0'])\n",
        "display(df.head())"
      ]
    },
    {
      "cell_type": "markdown",
      "metadata": {
        "id": "zrtWktg2yrIU"
      },
      "source": [
        "### 2. Splitting the dataset into training/test set"
      ]
    },
    {
      "cell_type": "code",
      "execution_count": null,
      "metadata": {},
      "outputs": [],
      "source": [
        "X = df.loc[:, ['Orig', 'con1', 'con2', 'Dest', 'op_flight1', 'op_flight2', 'op_flight3',\n",
        "               'depDay', 'elaptime', 'detour', 'arrDay', 'stops', 'cluster', 'real_dist',\n",
        "               'total_time', 'connection_time', 'dep_hour', 'arr_hour']]\n",
        "y = df.loc[:, ['market_share', 'paxe', 'TOT_pax']]\n",
        "\n",
        "X_train, X_test, y_train, y_test = train_test_split(X, y, train_size=0.8, random_state=0)"
      ]
    },
    {
      "cell_type": "code",
      "execution_count": null,
      "metadata": {
        "colab": {
          "base_uri": "https://localhost:8080/"
        },
        "id": "xENydG1DyrIT",
        "outputId": "367610a4-07d1-4762-c1e8-11e92320a9fa"
      },
      "outputs": [],
      "source": [
        "display(X.head())\n",
        "display(y.head())"
      ]
    },
    {
      "cell_type": "code",
      "execution_count": null,
      "metadata": {
        "colab": {
          "base_uri": "https://localhost:8080/",
          "height": 255
        },
        "id": "XTp1-_R5yrIU",
        "outputId": "90f9aa1b-e581-4ddd-b9d2-0195cedb0329"
      },
      "outputs": [],
      "source": [
        "sc_X = StandardScaler()\n",
        "X_train = sc_X.fit_transform(X_train)\n",
        "X_test = sc_X.fit_transform(X_test)"
      ]
    },
    {
      "cell_type": "markdown",
      "metadata": {
        "id": "ULRmIqmYyrIW"
      },
      "source": [
        "### 3. Creating a random forest regression model and fitting it to the training data"
      ]
    },
    {
      "cell_type": "code",
      "execution_count": null,
      "metadata": {
        "colab": {
          "base_uri": "https://localhost:8080/",
          "height": 74
        },
        "id": "lOrjBc4NyrIW",
        "outputId": "377c2c07-bc90-41c4-af92-1bb57d80bb41"
      },
      "outputs": [],
      "source": [
        "# Create a model\n",
        "regr_multirf = MultiOutputRegressor(\n",
        "    RandomForestRegressor(n_estimators=1000, max_depth=60, random_state=0)\n",
        ")\n",
        "\n",
        "# Fit into the model\n",
        "regr_multirf.fit(X_train, y_train)"
      ]
    },
    {
      "cell_type": "code",
      "execution_count": null,
      "metadata": {
        "colab": {
          "base_uri": "https://localhost:8080/"
        },
        "id": "xY8C_i-GyrIW",
        "outputId": "d0f53dc3-58e5-4c4e-8f83-009a6658cce8"
      },
      "outputs": [],
      "source": [
        "# Predict on new data\n",
        "y_pred_train = regr_multirf.predict(X_train)\n",
        "y_pred_test = regr_multirf.predict(X_test)\n",
        "\n",
        "print('Multioutput Regressor')\n",
        "print('--------------------------------------------------------------------------------\\n')\n",
        "train_mse = mean_squared_error(y_train, y_pred_train)\n",
        "test_mse = mean_squared_error(y_test, y_pred_test)\n",
        "print(\"MSE (Training) = %.4f\" % train_mse)\n",
        "print(\"MSE (Testing) = %.4f\" % test_mse)"
      ]
    },
    {
      "cell_type": "markdown",
      "metadata": {},
      "source": [
        "### 4. Concatenating dataframes"
      ]
    },
    {
      "cell_type": "code",
      "execution_count": null,
      "metadata": {
        "colab": {
          "base_uri": "https://localhost:8080/"
        },
        "id": "tSd_l_5PyrIX",
        "outputId": "a3e6f9da-941c-4a61-b08b-95dcc8d15316"
      },
      "outputs": [],
      "source": [
        "# train\n",
        "y_pred_train_df = pd.DataFrame(y_pred_train, columns=['market_share_pred', 'paxe_pred', 'TOT_pax_pred'])\n",
        "train_df = pd.concat([X_train, y_train], axis=1).reset_index(drop=True)\n",
        "train_df = pd.concat([train_df, y_pred_train_df], axis=1)\n",
        "# test\n",
        "y_pred_test_df = pd.DataFrame(y_pred_test, columns=['market_share_pred', 'paxe_pred', 'TOT_pax_pred'])\n",
        "test_df = pd.concat([X_test, y_test], axis=1).reset_index(drop=True)\n",
        "test_df = pd.concat([test_df, y_pred_test_df], axis=1)\n",
        "# whole\n",
        "df_new = pd.concat([train_df, test_df] axis=0).reset_index(drop=True)"
      ]
    },
    {
      "cell_type": "code",
      "execution_count": null,
      "metadata": {},
      "outputs": [],
      "source": [
        "df_new.to_csv('./dataset/kaggle_pred_multirf.csv', index=False)"
      ]
    }
  ],
  "metadata": {
    "accelerator": "GPU",
    "colab": {
      "gpuType": "V100",
      "provenance": []
    },
    "kernelspec": {
      "display_name": "Python 3",
      "name": "python3"
    },
    "language_info": {
      "codemirror_mode": {
        "name": "ipython",
        "version": 3
      },
      "file_extension": ".py",
      "mimetype": "text/x-python",
      "name": "python",
      "nbconvert_exporter": "python",
      "pygments_lexer": "ipython3",
      "version": "3.11.2"
    }
  },
  "nbformat": 4,
  "nbformat_minor": 0
}
