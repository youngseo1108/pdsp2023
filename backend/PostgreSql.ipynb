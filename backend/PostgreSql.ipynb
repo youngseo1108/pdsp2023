{
 "cells": [
  {
   "cell_type": "code",
   "execution_count": 97,
   "id": "7368dc75-adf9-4dae-a4b4-66af74f3eb5c",
   "metadata": {
    "tags": []
   },
   "outputs": [],
   "source": [
    "# Connection parameters\n",
    "host = 'localhost'\n",
    "user= 'postgres'\n",
    "password='0000'\n",
    "database='preprocess'  # the name of the batabase we are connecting\n",
    "port = \"5432\"\n",
    "# connection_string=f'postgresql://{user}:{password}@{host}:5432/{database}'"
   ]
  },
  {
   "cell_type": "code",
   "execution_count": 98,
   "id": "88ed77ba-69e7-456a-84c4-ba7c1fec0610",
   "metadata": {
    "tags": []
   },
   "outputs": [],
   "source": [
    "# !pip install psycopg2"
   ]
  },
  {
   "cell_type": "code",
   "execution_count": 99,
   "id": "eb81a2cf-a308-4ceb-88e2-c7cac62f55b2",
   "metadata": {
    "tags": []
   },
   "outputs": [],
   "source": [
    "# prepare\n",
    "import sqlalchemy\n",
    "import psycopg2\n",
    "import pandas as pd\n",
    "import sqlite3"
   ]
  },
  {
   "cell_type": "code",
   "execution_count": 100,
   "id": "4580c0be-4e96-44a1-92a0-c5ff7beac3ac",
   "metadata": {
    "tags": []
   },
   "outputs": [],
   "source": [
    "# create a connection to a database using the SQLAlchemy\n",
    "# engine = sqlalchemy.create_engine(connection_string)\n",
    "# engine"
   ]
  },
  {
   "cell_type": "code",
   "execution_count": 101,
   "id": "deb5eae9-170f-4788-8600-199e98528674",
   "metadata": {
    "tags": []
   },
   "outputs": [],
   "source": [
    "# Establish a connection to the database that is specified by the engine\n",
    "# engine.connect()"
   ]
  },
  {
   "cell_type": "code",
   "execution_count": 102,
   "id": "773ebe44-1197-48e6-9cc3-785e6497723f",
   "metadata": {
    "tags": []
   },
   "outputs": [],
   "source": [
    "# print(engine.connect().execute('SELECT version()').fetchall())"
   ]
  },
  {
   "cell_type": "code",
   "execution_count": 103,
   "id": "8e884eaf-ba5b-4b72-8149-2e99acb55d66",
   "metadata": {
    "tags": []
   },
   "outputs": [],
   "source": [
    "# Create a connection to the database\n",
    "conn = psycopg2.connect(\n",
    "    host=host,\n",
    "    database=database,\n",
    "    user=user,\n",
    "    password=password,\n",
    "    port=port\n",
    ")"
   ]
  },
  {
   "cell_type": "code",
   "execution_count": 104,
   "id": "8fcda31a-ab95-46df-a770-96e776162d4f",
   "metadata": {
    "tags": []
   },
   "outputs": [],
   "source": [
    "# Create a cursor object\n",
    "cur = conn.cursor()"
   ]
  },
  {
   "cell_type": "code",
   "execution_count": 89,
   "id": "a9334c0c-c716-4ed1-ad6c-c907389776fd",
   "metadata": {},
   "outputs": [],
   "source": [
    "# Part 1: Build tables:  6 component-->6 tables (finish)"
   ]
  },
  {
   "cell_type": "code",
   "execution_count": 90,
   "id": "43284aa9-9bae-47c0-b547-a065c959d93e",
   "metadata": {
    "tags": []
   },
   "outputs": [],
   "source": [
    "# 1) input itinerary component\n",
    "cur.execute(\"\"\"\n",
    "DROP TABLE itinerary_input\n",
    "\"\"\")"
   ]
  },
  {
   "cell_type": "code",
   "execution_count": 91,
   "id": "2ad5ae16-9917-4e14-9c88-1c57bdcf3008",
   "metadata": {
    "tags": []
   },
   "outputs": [],
   "source": [
    "# 1) input itinerary component\n",
    "cur.execute(\"\"\"\n",
    "CREATE TABLE \"itinerary_input\" (\n",
    "  \"id\" integer PRIMARY KEY,\n",
    "  \"Orig_s\" text NOT NULL,   \n",
    "  \"Dest_s\" text NOT NULL,\n",
    "  \"depDay\" varchar(10) NOT NULL\n",
    ")\n",
    "\"\"\")"
   ]
  },
  {
   "cell_type": "code",
   "execution_count": 92,
   "id": "2a4c312f-9246-4e10-b6c4-477433c58c11",
   "metadata": {
    "tags": []
   },
   "outputs": [],
   "source": [
    "# Commit the transaction for the CREATE TABLE command\n",
    "conn.commit()"
   ]
  },
  {
   "cell_type": "code",
   "execution_count": 105,
   "id": "dc5103ce-5184-40c0-b657-059703bff946",
   "metadata": {},
   "outputs": [],
   "source": [
    "# 2) market share (pie graph) component \n",
    "# consistent with itinerary, map, and recommendation\n",
    "cur.execute(\"\"\"\n",
    "CREATE TABLE \"marketshare\" (\n",
    "  \"id\" integer PRIMARY KEY,\n",
    "  \"itinerary_input_id\" INTEGER NOT NULL,\n",
    "  \"recommendation_id\" INTEGER NOT NULL,\n",
    "  \"map_id\" INTEGER NOT NULL,\n",
    "  \"market_share\" FLOAT NOT NULL\n",
    ")\n",
    "\"\"\")"
   ]
  },
  {
   "cell_type": "code",
   "execution_count": 106,
   "id": "0caf1619-6b86-4442-ba6a-4c7a523f41be",
   "metadata": {
    "tags": []
   },
   "outputs": [],
   "source": [
    "# Commit the transaction for the CREATE TABLE command\n",
    "conn.commit()"
   ]
  },
  {
   "cell_type": "code",
   "execution_count": 107,
   "id": "05abca91-177e-4108-a11b-f601ca341ce1",
   "metadata": {
    "tags": []
   },
   "outputs": [],
   "source": [
    "# 3) recommendation table component\n",
    "# consistent with market share, map, and itinerary\n",
    "cur.execute(\"\"\"\n",
    "CREATE TABLE \"recommendation\" (\n",
    "  \"id\" INTEGER PRIMARY KEY,\n",
    "  \"itinerary_input_id\" INTEGER NOT NULL,\n",
    "  \"marketshare_id\" INTEGER NOT NULL,\n",
    "  \"map_id\" INTEGER NOT NULL,\n",
    "  \"dep_hour\" INTEGER NOT NULL,\n",
    "  \"dep_min\" INTEGER NOT NULL,\n",
    "  \"arr_hour\" INTEGER NOT NULL,\n",
    "  \"arr_min\" INTEGER NOT NULL,\n",
    "  \"option\" TEXT NOT NULL,\n",
    "  \"elapstime\" FLOAT NOT NULL\n",
    ")\n",
    "\"\"\")"
   ]
  },
  {
   "cell_type": "code",
   "execution_count": 108,
   "id": "7768ad43-432a-4434-a6be-3ad8b0e72847",
   "metadata": {
    "tags": []
   },
   "outputs": [],
   "source": [
    "# Commit the transaction for the CREATE TABLE command\n",
    "conn.commit()"
   ]
  },
  {
   "cell_type": "code",
   "execution_count": 109,
   "id": "23ceb700-939e-4c1a-9cb3-3074ade467a2",
   "metadata": {},
   "outputs": [],
   "source": [
    "# 4) map component\n",
    "# consistent with market share, itinerary and recommendation\n",
    "cur.execute(\"\"\"\n",
    "CREATE TABLE \"map\" (\n",
    "  \"id\" integer PRIMARY KEY,\n",
    "  \"itinerary_input_id\" INTEGER NOT NULL,\n",
    "  \"recommendation_id\" INTEGER NOT NULL,\n",
    "  \"Orig_s\" text NOT NULL,\n",
    "  \"Dest_s\" text NOT NULL\n",
    ")\n",
    "\"\"\")"
   ]
  },
  {
   "cell_type": "code",
   "execution_count": 110,
   "id": "f679ebbc-537c-4da5-9297-48d683cf16d0",
   "metadata": {
    "tags": []
   },
   "outputs": [],
   "source": [
    "# Commit the transaction for the CREATE TABLE command\n",
    "conn.commit()"
   ]
  },
  {
   "cell_type": "code",
   "execution_count": 111,
   "id": "0e497e7a-98da-44aa-aee0-8aa6be1e1364",
   "metadata": {
    "tags": []
   },
   "outputs": [],
   "source": [
    "# 5) result component (highest market_share itinerary info)\n",
    "cur.execute(\"\"\"\n",
    "CREATE TABLE \"result\" (\n",
    "  \"id\" integer PRIMARY KEY,\n",
    "  \"recommendation_id\" INTEGER NOT NULL,\n",
    "  \"TOT_pax\" FLOAT NOT NULL,\n",
    "  \"accuracy\" FLOAT NOT NULL\n",
    ")\n",
    "\"\"\")"
   ]
  },
  {
   "cell_type": "code",
   "execution_count": 112,
   "id": "c3689764-feab-4d1b-80cc-9877eab3370c",
   "metadata": {
    "tags": []
   },
   "outputs": [],
   "source": [
    "# Commit the transaction for the CREATE TABLE command\n",
    "conn.commit()"
   ]
  },
  {
   "cell_type": "code",
   "execution_count": 113,
   "id": "8dd49dcf-6fde-4e27-ab60-fb8d646bbd40",
   "metadata": {
    "tags": []
   },
   "outputs": [],
   "source": [
    "# 6) other info component (highest market_share itinerary info)\n",
    "cur.execute(\"\"\"\n",
    "CREATE TABLE \"other_info\" (\n",
    "  \"id\" integer PRIMARY KEY,\n",
    "  \"result_id\" INTEGER NOT NULL,\n",
    "  \"detour\" FLOAT NOT NULL,\n",
    "  \"stops\" INTEGER NOT NULL,\n",
    "  \"real_dist\" FLOAT NOT NULL\n",
    ")\n",
    "\"\"\")"
   ]
  },
  {
   "cell_type": "code",
   "execution_count": 114,
   "id": "e128ddb9-80d3-4a12-89da-2fcbb2ddb71d",
   "metadata": {
    "tags": []
   },
   "outputs": [],
   "source": [
    "# Commit the transaction for the CREATE TABLE command\n",
    "conn.commit()"
   ]
  },
  {
   "cell_type": "code",
   "execution_count": 31,
   "id": "b956418f-d3c5-434c-bdd3-fd46c45728a9",
   "metadata": {},
   "outputs": [],
   "source": [
    "# Part 2: import preprocessing (Prepro_v2) dataset to tables (current)\n",
    "# data: preprocessing data"
   ]
  },
  {
   "cell_type": "code",
   "execution_count": 93,
   "id": "c885911c-a435-4d24-b884-844746622224",
   "metadata": {},
   "outputs": [],
   "source": [
    "# 1) input itinerary component\n",
    "preprocessed_data = pd.read_csv('C:/Users/Alla/Desktop/苏黎世/第三学期/product/backend/data/dataprep_v2.csv')\n",
    "itinerary_data = preprocessed_data[['Orig_s', 'Dest_s', 'depDay']]"
   ]
  },
  {
   "cell_type": "code",
   "execution_count": 94,
   "id": "fedcd01f-1b2f-4a1c-82aa-f5050a1d5b7d",
   "metadata": {},
   "outputs": [
    {
     "data": {
      "text/plain": [
       "522806"
      ]
     },
     "execution_count": 94,
     "metadata": {},
     "output_type": "execute_result"
    }
   ],
   "source": [
    "conn = sqlite3.connect('preprocess.db')\n",
    "itinerary_data.to_sql('itinerary_input', conn, if_exists='append', index=False)\n",
    "# index=False, not to write the DataFrame's index as a separate column in the SQL table\n",
    "#  to_sql commits automatically"
   ]
  },
  {
   "cell_type": "code",
   "execution_count": 95,
   "id": "9bb46723-a0ef-4ee7-ba45-9df195d44d8d",
   "metadata": {
    "tags": []
   },
   "outputs": [],
   "source": [
    "cur.execute(\"\"\"\n",
    "SELECT * FROM itinerary_input\n",
    "\"\"\")\n",
    "# Fetch all the results\n",
    "rows = cur.fetchall()\n",
    "\n",
    "# Now you can print them, loop over them, or convert them to a DataFrame\n",
    "for row in rows:\n",
    "    print(row)"
   ]
  },
  {
   "cell_type": "code",
   "execution_count": 96,
   "id": "0633be2c-50be-4887-87d1-b71c3f6d46a1",
   "metadata": {
    "tags": []
   },
   "outputs": [
    {
     "ename": "NameError",
     "evalue": "name 'itinerary_input' is not defined",
     "output_type": "error",
     "traceback": [
      "\u001b[1;31m---------------------------------------------------------------------------\u001b[0m",
      "\u001b[1;31mNameError\u001b[0m                                 Traceback (most recent call last)",
      "Cell \u001b[1;32mIn[96], line 1\u001b[0m\n\u001b[1;32m----> 1\u001b[0m \u001b[38;5;28mprint\u001b[39m(itinerary_input)\n",
      "\u001b[1;31mNameError\u001b[0m: name 'itinerary_input' is not defined"
     ]
    }
   ],
   "source": []
  },
  {
   "cell_type": "code",
   "execution_count": null,
   "id": "f90b7731-c899-48f8-aa12-96c6d55fad33",
   "metadata": {},
   "outputs": [],
   "source": [
    "# 2) market share (pie graph) component"
   ]
  },
  {
   "cell_type": "code",
   "execution_count": null,
   "id": "76719ff9-844b-4a2f-8621-b306d73272fc",
   "metadata": {},
   "outputs": [],
   "source": [
    "# 3) recommendation table component"
   ]
  },
  {
   "cell_type": "code",
   "execution_count": null,
   "id": "3693a296-e66a-47d7-bd18-a9c24b6f8957",
   "metadata": {},
   "outputs": [],
   "source": [
    "# 4) map component"
   ]
  },
  {
   "cell_type": "code",
   "execution_count": null,
   "id": "f0acd356-2777-4974-86ca-2e0e09df2880",
   "metadata": {},
   "outputs": [],
   "source": [
    "# 5) result component (highest market_share itinerary info)"
   ]
  },
  {
   "cell_type": "code",
   "execution_count": null,
   "id": "94458972-fc52-45e4-81ba-729397d86f21",
   "metadata": {},
   "outputs": [],
   "source": [
    "# 6) other info component (highest market_share itinerary info)"
   ]
  },
  {
   "cell_type": "code",
   "execution_count": 52,
   "id": "ec84988c-fd33-45f5-ab56-811c68b4b338",
   "metadata": {
    "tags": []
   },
   "outputs": [],
   "source": [
    "# Close the cursor and connection\n",
    "cur.close()\n",
    "conn.close()"
   ]
  },
  {
   "cell_type": "code",
   "execution_count": null,
   "id": "16349d13-7162-4e43-82e9-0f95e16bf06e",
   "metadata": {},
   "outputs": [],
   "source": []
  }
 ],
 "metadata": {
  "kernelspec": {
   "display_name": "Python 3 (ipykernel)",
   "language": "python",
   "name": "python3"
  },
  "language_info": {
   "codemirror_mode": {
    "name": "ipython",
    "version": 3
   },
   "file_extension": ".py",
   "mimetype": "text/x-python",
   "name": "python",
   "nbconvert_exporter": "python",
   "pygments_lexer": "ipython3",
   "version": "3.11.5"
  }
 },
 "nbformat": 4,
 "nbformat_minor": 5
}
