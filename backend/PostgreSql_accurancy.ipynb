{
 "cells": [
  {
   "cell_type": "code",
   "execution_count": 1,
   "id": "237eba4d-308c-42e8-a031-85a134826280",
   "metadata": {
    "tags": []
   },
   "outputs": [],
   "source": [
    "# Connection parameters\n",
    "host = '35.228.34.114'\n",
    "user= 'postgres'\n",
    "password='P@ssw0rd!'\n",
    "database='postgres'  # the name of the batabase we are connecting\n",
    "port = \"5432\""
   ]
  },
  {
   "cell_type": "code",
   "execution_count": 2,
   "id": "0c8fd75f-0ece-42b5-a9b8-830e63d1e5a7",
   "metadata": {
    "tags": []
   },
   "outputs": [],
   "source": [
    "import sqlalchemy\n",
    "import psycopg2\n",
    "import pandas as pd\n",
    "import sqlite3\n",
    "import pandas as pd\n",
    "from io import StringIO\n",
    "import csv\n",
    "from psycopg2 import extras\n",
    "import numpy as np"
   ]
  },
  {
   "cell_type": "code",
   "execution_count": 3,
   "id": "4054570a-31fd-4278-bc05-720beb3730dd",
   "metadata": {
    "tags": []
   },
   "outputs": [],
   "source": [
    "# result (accurancy)"
   ]
  },
  {
   "cell_type": "code",
   "execution_count": 4,
   "id": "7c06d6a6-41ee-4c6c-a12f-aac5468d060c",
   "metadata": {
    "tags": []
   },
   "outputs": [],
   "source": [
    "df = pd.read_csv('C:/Users/Alla/Desktop/苏黎世/第三学期/product/backend/data/dataprep_v2.csv')"
   ]
  },
  {
   "cell_type": "code",
   "execution_count": 5,
   "id": "999dbdab-4ee1-4061-ade6-2dc6c6e2894d",
   "metadata": {
    "tags": []
   },
   "outputs": [],
   "source": [
    "cf = pd.read_csv('C:/Users/Alla/Desktop/苏黎世/第三学期/product/backend/data/final.csv')"
   ]
  },
  {
   "cell_type": "code",
   "execution_count": 6,
   "id": "ce5f4760-db1e-4d0c-8af9-a96bf7d34be6",
   "metadata": {
    "tags": []
   },
   "outputs": [],
   "source": [
    "# copy market share prediction\n",
    "if len(df) == len(cf):\n",
    "    df['ms_pred'] = cf['market_share_pred']\n",
    "else:\n",
    "    print(\"Error: The DataFrames do not have the same length.\")"
   ]
  },
  {
   "cell_type": "code",
   "execution_count": 7,
   "id": "7e283750-14c5-4fd5-af5d-6921f6384a08",
   "metadata": {},
   "outputs": [],
   "source": [
    "# calculate RMSE for each itinerary (same Orig, Dest)"
   ]
  },
  {
   "cell_type": "code",
   "execution_count": 8,
   "id": "6e52d4aa-8908-4f41-aab9-c16d1179a63e",
   "metadata": {
    "tags": []
   },
   "outputs": [],
   "source": [
    "# calculate RMSE\n",
    "def rmse(group):\n",
    "    return np.sqrt(((group['ms_pred'] - group['market_share']) ** 2).mean())"
   ]
  },
  {
   "cell_type": "code",
   "execution_count": 9,
   "id": "de7e3f5a-a409-49b4-8222-f4e55b3a2da9",
   "metadata": {
    "tags": []
   },
   "outputs": [],
   "source": [
    "# Calculate RMSE for each itinerary\n",
    "itinerary_rmse = df.groupby(['Orig', 'Dest']).apply(rmse)"
   ]
  },
  {
   "cell_type": "code",
   "execution_count": 10,
   "id": "cf52abe7-e05d-4c1f-922d-a3305b0f8bde",
   "metadata": {
    "tags": []
   },
   "outputs": [],
   "source": [
    "# Map RMSE back to the original DataFrame\n",
    "df['accuracy'] = df.apply(lambda row: itinerary_rmse[row['Orig'], row['Dest']], axis=1)"
   ]
  },
  {
   "cell_type": "code",
   "execution_count": 11,
   "id": "0b0eb6e4-0556-4e2d-96a4-2a3804ef6184",
   "metadata": {
    "tags": []
   },
   "outputs": [
    {
     "name": "stdout",
     "output_type": "stream",
     "text": [
      "        Unnamed: 0  Orig  con1  con2  Dest  op_flight1  op_flight2  \\\n",
      "0                0    26    64   239   181         732        2624   \n",
      "1                1    26    64   239   181         732        2624   \n",
      "2                2    26    64   239   181         732        1748   \n",
      "3                3    26    64   239   181         732        2624   \n",
      "4                4    26    64   239   181         732        2624   \n",
      "...            ...   ...   ...   ...   ...         ...         ...   \n",
      "522801      522801    41   148   239    26          11        3060   \n",
      "522802      522802    41    26   239    26         493         210   \n",
      "522803      522803     1    41   239    26        7549        3114   \n",
      "522804      522804     1     1     1    26         295        2221   \n",
      "522805      522805     1     1    65    26         411        2583   \n",
      "\n",
      "        op_flight3  depDay  elaptime  ...  cluster  TOT_pax  market_share  \\\n",
      "0             1101       2       535  ...      111     0.00          0.00   \n",
      "1             1101       4       535  ...      111     0.00          0.00   \n",
      "2             1101       4       775  ...      111     0.00          0.00   \n",
      "3             1101       5       535  ...      111     0.00          0.00   \n",
      "4             1101       6       535  ...      111     0.00          0.00   \n",
      "...            ...     ...       ...  ...      ...      ...           ...   \n",
      "522801        1101       4      1010  ...     1601    12.90          0.13   \n",
      "522802        1101       5      1190  ...     1601   419.68          0.00   \n",
      "522803        1101       4      1180  ...     1601   873.76          0.00   \n",
      "522804        1075       2      1090  ...     1601    20.64          0.08   \n",
      "522805        1089       7       860  ...     1601    74.82          0.01   \n",
      "\n",
      "        real_dist  total_time  connection_time  dep_hour  arr_hour   ms_pred  \\\n",
      "0         3899.12         535                0        13        22  0.000180   \n",
      "1         3899.12         535                0        13        22  0.000310   \n",
      "2         3899.12         775                0        13         2  0.000000   \n",
      "3         3899.12         535                0        13        22  0.000000   \n",
      "4         3899.12         535                0        13        22  0.000090   \n",
      "...           ...         ...              ...       ...       ...       ...   \n",
      "522801    8924.92        1010                0        23        16  0.017555   \n",
      "522802    8357.96        1190                0        23        19  0.001583   \n",
      "522803    6261.15        1180                0        10         6  0.013222   \n",
      "522804   10910.47        1090              217        13         7  0.000200   \n",
      "522805    6824.12         860              258        19         9  0.043808   \n",
      "\n",
      "        accuracy  \n",
      "0       0.085992  \n",
      "1       0.085992  \n",
      "2       0.085992  \n",
      "3       0.085992  \n",
      "4       0.085992  \n",
      "...          ...  \n",
      "522801  0.076574  \n",
      "522802  0.076574  \n",
      "522803  0.072493  \n",
      "522804  0.072493  \n",
      "522805  0.072493  \n",
      "\n",
      "[522806 rows x 24 columns]\n"
     ]
    }
   ],
   "source": [
    "# check\n",
    "print(df)"
   ]
  },
  {
   "cell_type": "code",
   "execution_count": 12,
   "id": "d7f62db7-7d0a-4781-ada4-0aa9bc06dc60",
   "metadata": {
    "tags": []
   },
   "outputs": [],
   "source": [
    "# Create a connection to the database\n",
    "conn = psycopg2.connect(\n",
    "    host=host,\n",
    "    database=database,\n",
    "    user=user,\n",
    "    password=password,\n",
    "    port=port\n",
    ")"
   ]
  },
  {
   "cell_type": "code",
   "execution_count": 13,
   "id": "fc255c9e-81ec-40a2-a61f-e2927b0a6d5c",
   "metadata": {
    "tags": []
   },
   "outputs": [],
   "source": [
    "# Create a cursor object\n",
    "cur = conn.cursor()"
   ]
  },
  {
   "cell_type": "code",
   "execution_count": 14,
   "id": "5d97641c-aab6-4837-93c8-515de5f198b7",
   "metadata": {
    "tags": []
   },
   "outputs": [
    {
     "name": "stderr",
     "output_type": "stream",
     "text": [
      "C:\\Users\\Alla\\AppData\\Local\\Temp\\ipykernel_22728\\3525411174.py:3: SettingWithCopyWarning: \n",
      "A value is trying to be set on a copy of a slice from a DataFrame.\n",
      "Try using .loc[row_indexer,col_indexer] = value instead\n",
      "\n",
      "See the caveats in the documentation: https://pandas.pydata.org/pandas-docs/stable/user_guide/indexing.html#returning-a-view-versus-a-copy\n",
      "  df_selected['accuracy'] = df_selected['accuracy'].astype(float)\n"
     ]
    }
   ],
   "source": [
    "# insert accurancy value\n",
    "df_selected = df[['accuracy', 'TOT_pax']]\n",
    "df_selected['accuracy'] = df_selected['accuracy'].astype(float)"
   ]
  },
  {
   "cell_type": "code",
   "execution_count": 15,
   "id": "a2c8ff44-84e7-49ff-8baf-0fb0ed70e6d2",
   "metadata": {
    "tags": []
   },
   "outputs": [],
   "source": [
    "# Retrieve all ids from the recommendation table\n",
    "cur.execute(\"SELECT id FROM marketshare ORDER BY id\")\n",
    "marketshare_ids = cur.fetchall()"
   ]
  },
  {
   "cell_type": "code",
   "execution_count": 16,
   "id": "19943d78-5392-450b-920d-be75e4b9e617",
   "metadata": {
    "tags": []
   },
   "outputs": [
    {
     "name": "stderr",
     "output_type": "stream",
     "text": [
      "C:\\Users\\Alla\\AppData\\Local\\Temp\\ipykernel_22728\\4170759907.py:3: SettingWithCopyWarning: \n",
      "A value is trying to be set on a copy of a slice from a DataFrame.\n",
      "Try using .loc[row_indexer,col_indexer] = value instead\n",
      "\n",
      "See the caveats in the documentation: https://pandas.pydata.org/pandas-docs/stable/user_guide/indexing.html#returning-a-view-versus-a-copy\n",
      "  df_selected['marketshare_id'] = [id_tuple[0] for id_tuple in marketshare_ids[:len(df_selected)]]\n"
     ]
    }
   ],
   "source": [
    "if len(df_selected) <= len(marketshare_ids):\n",
    "    # Assign the itinerary_input_id values to the df_selected DataFrame\n",
    "    df_selected['marketshare_id'] = [id_tuple[0] for id_tuple in marketshare_ids[:len(df_selected)]]\n",
    "\n",
    "    # Reorder the DataFrame columns to match the table schema\n",
    "    df_selected = df_selected[['marketshare_id', 'TOT_pax', 'accuracy']]\n",
    "    # Convert the DataFrame to an in-memory buffer for copying to SQL\n",
    "    buffer = StringIO()\n",
    "    df_selected.to_csv(buffer, index=False, header=False) \n",
    "    # Use na_rep to replace NaN with \\N in the CSV\n",
    "    buffer.seek(0)\n",
    "\n",
    "    # Use copy_from to copy the data to the database\n",
    "    cur.copy_from(buffer, 'result', sep=',', columns=('marketshare_id', 'TOT_pax', 'accuracy'))\n",
    "    conn.commit()\n",
    "else:\n",
    "    raise ValueError(\"There are more entries than fk_constrain available.\")"
   ]
  },
  {
   "cell_type": "code",
   "execution_count": 17,
   "id": "ca219ab5-0348-4f54-8726-87d63d7ac411",
   "metadata": {
    "tags": []
   },
   "outputs": [],
   "source": [
    "# Close the cursor and connection\n",
    "cur.close()\n",
    "conn.close()"
   ]
  },
  {
   "cell_type": "code",
   "execution_count": null,
   "id": "7ee8d8ed-9ebb-4856-9cd5-9871b4890cc5",
   "metadata": {},
   "outputs": [],
   "source": []
  }
 ],
 "metadata": {
  "kernelspec": {
   "display_name": "Python 3 (ipykernel)",
   "language": "python",
   "name": "python3"
  },
  "language_info": {
   "codemirror_mode": {
    "name": "ipython",
    "version": 3
   },
   "file_extension": ".py",
   "mimetype": "text/x-python",
   "name": "python",
   "nbconvert_exporter": "python",
   "pygments_lexer": "ipython3",
   "version": "3.11.5"
  }
 },
 "nbformat": 4,
 "nbformat_minor": 5
}
